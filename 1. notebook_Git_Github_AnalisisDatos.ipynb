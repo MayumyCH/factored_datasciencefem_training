{
 "cells": [
  {
   "cell_type": "markdown",
   "metadata": {
    "id": "nkr1NNvWEvUC"
   },
   "source": [
    "# Factored Workshops! 🚀\n",
    "_Crearás un modelo capaz de predecir la duración total de un viaje de taxi en Nueva York 🗽_\n",
    "\n",
    "\n"
   ]
  },
  {
   "cell_type": "markdown",
   "metadata": {
    "id": "ErgG_bUUehYM"
   },
   "source": [
    "## Carga y transformación de datos"
   ]
  },
  {
   "cell_type": "code",
   "execution_count": 2,
   "metadata": {
    "executionInfo": {
     "elapsed": 242,
     "status": "ok",
     "timestamp": 1634152850376,
     "user": {
      "displayName": "heydy carrasco huaccha",
      "photoUrl": "https://lh3.googleusercontent.com/a-/AOh14GiGyezGgm9Px4LBw_sc7MFWfjUVhWWsvnAz1Ttg=s64",
      "userId": "00007591481982700116"
     },
     "user_tz": 300
    },
    "id": "TlA1pMPWu6z2"
   },
   "outputs": [],
   "source": [
    "import pandas as pd\n",
    "import numpy as np"
   ]
  },
  {
   "cell_type": "code",
   "execution_count": 3,
   "metadata": {
    "colab": {
     "base_uri": "https://localhost:8080/",
     "height": 215
    },
    "executionInfo": {
     "elapsed": 10142,
     "status": "ok",
     "timestamp": 1634152860825,
     "user": {
      "displayName": "heydy carrasco huaccha",
      "photoUrl": "https://lh3.googleusercontent.com/a-/AOh14GiGyezGgm9Px4LBw_sc7MFWfjUVhWWsvnAz1Ttg=s64",
      "userId": "00007591481982700116"
     },
     "user_tz": 300
    },
    "id": "SaxcCQu8u_rY",
    "outputId": "78bca1ad-ea4a-445b-aa76-78a921b8e46c"
   },
   "outputs": [
    {
     "data": {
      "text/html": [
       "<div>\n",
       "<style scoped>\n",
       "    .dataframe tbody tr th:only-of-type {\n",
       "        vertical-align: middle;\n",
       "    }\n",
       "\n",
       "    .dataframe tbody tr th {\n",
       "        vertical-align: top;\n",
       "    }\n",
       "\n",
       "    .dataframe thead th {\n",
       "        text-align: right;\n",
       "    }\n",
       "</style>\n",
       "<table border=\"1\" class=\"dataframe\">\n",
       "  <thead>\n",
       "    <tr style=\"text-align: right;\">\n",
       "      <th></th>\n",
       "      <th>id</th>\n",
       "      <th>vendor_id</th>\n",
       "      <th>pickup_datetime</th>\n",
       "      <th>dropoff_datetime</th>\n",
       "      <th>passenger_count</th>\n",
       "      <th>pickup_longitude</th>\n",
       "      <th>pickup_latitude</th>\n",
       "      <th>dropoff_longitude</th>\n",
       "      <th>dropoff_latitude</th>\n",
       "      <th>store_and_fwd_flag</th>\n",
       "      <th>trip_duration</th>\n",
       "      <th>pickup_borough</th>\n",
       "      <th>dropoff_borough</th>\n",
       "    </tr>\n",
       "  </thead>\n",
       "  <tbody>\n",
       "    <tr>\n",
       "      <th>0</th>\n",
       "      <td>id2875421</td>\n",
       "      <td>2</td>\n",
       "      <td>2016-03-14 17:24:55</td>\n",
       "      <td>2016-03-14 17:32:30</td>\n",
       "      <td>1</td>\n",
       "      <td>-73.982155</td>\n",
       "      <td>40.767937</td>\n",
       "      <td>-73.964630</td>\n",
       "      <td>40.765602</td>\n",
       "      <td>N</td>\n",
       "      <td>455</td>\n",
       "      <td>Manhattan</td>\n",
       "      <td>Manhattan</td>\n",
       "    </tr>\n",
       "    <tr>\n",
       "      <th>1</th>\n",
       "      <td>id2377394</td>\n",
       "      <td>1</td>\n",
       "      <td>2016-06-12 00:43:35</td>\n",
       "      <td>2016-06-12 00:54:38</td>\n",
       "      <td>1</td>\n",
       "      <td>-73.980415</td>\n",
       "      <td>40.738564</td>\n",
       "      <td>-73.999481</td>\n",
       "      <td>40.731152</td>\n",
       "      <td>N</td>\n",
       "      <td>663</td>\n",
       "      <td>Manhattan</td>\n",
       "      <td>Brooklyn</td>\n",
       "    </tr>\n",
       "    <tr>\n",
       "      <th>2</th>\n",
       "      <td>id3858529</td>\n",
       "      <td>2</td>\n",
       "      <td>2016-01-19 11:35:24</td>\n",
       "      <td>2016-01-19 12:10:48</td>\n",
       "      <td>1</td>\n",
       "      <td>-73.979027</td>\n",
       "      <td>40.763939</td>\n",
       "      <td>-74.005333</td>\n",
       "      <td>40.710087</td>\n",
       "      <td>N</td>\n",
       "      <td>2124</td>\n",
       "      <td>Manhattan</td>\n",
       "      <td>Brooklyn</td>\n",
       "    </tr>\n",
       "  </tbody>\n",
       "</table>\n",
       "</div>"
      ],
      "text/plain": [
       "          id  vendor_id  ... pickup_borough dropoff_borough\n",
       "0  id2875421          2  ...      Manhattan       Manhattan\n",
       "1  id2377394          1  ...      Manhattan        Brooklyn\n",
       "2  id3858529          2  ...      Manhattan        Brooklyn\n",
       "\n",
       "[3 rows x 13 columns]"
      ]
     },
     "execution_count": 3,
     "metadata": {},
     "output_type": "execute_result"
    }
   ],
   "source": [
    "df_train = pd.read_csv(\"https://factored-workshops.s3.amazonaws.com/taxi-trip-duration.csv\")\n",
    "df_train.head(3)"
   ]
  },
  {
   "cell_type": "markdown",
   "metadata": {
    "id": "vhvu1OXUHNxZ"
   },
   "source": [
    "Variable |\tDescripción de la variable\n",
    "--- | ---\n",
    "id‎‎ |\tun identificador único para cada viaje‎\n",
    "vendor_id‎‎  |\tun código que indica el proveedor asociado con el registro de viaje‎\n",
    "pickup_datetime‎‎  |\tfecha y hora en que se inició el medidor‎\n",
    "dropoff_datetime |\tfecha y hora en que se desconectó el medidor‎\n",
    "passenger_count‎‎  |\t el número de pasajeros en el vehículo (valor introducido por el conductor)‎\n",
    "pickup_longitude‎‎  |\t la longitud donde se inició el medidor‎\n",
    "pickup_latitude‎‎  |\tla latitud donde se inició el medidor‎\n",
    "dropoff_longitude‎‎  | la longitud donde se desconectó el medidor‎\n",
    "dropoff_latitude‎‎  |\tla latitud donde se desconectó el medidor‎\n",
    "store_and_fwd_flag‎‎  |\t - Y = registro de viaje almacenado y reenviado; N=no es una tienda y un viaje hacia adelante‎\n",
    "trip_duration‎‎  |\tduración del viaje en segundos‎\n",
    "pickup_borough\t| Barrio de inicio\n",
    "dropoff_borough | Barrio de fin\n",
    "    "
   ]
  },
  {
   "cell_type": "markdown",
   "metadata": {
    "id": "uEaXNDFlIP07"
   },
   "source": [
    "**‎store_and_fwd_flag‎‎**\n",
    "\n",
    "Esta bandera indica si el registro de viaje se mantuvo en la memoria del vehículo antes de enviarlo al proveedor porque el vehículo no tenía una conexión con el servidor - Y = almacenar y reenviar; N=no es una tienda y un viaje hacia adelante‎"
   ]
  },
  {
   "cell_type": "code",
   "execution_count": 4,
   "metadata": {
    "executionInfo": {
     "elapsed": 5,
     "status": "ok",
     "timestamp": 1634152860825,
     "user": {
      "displayName": "heydy carrasco huaccha",
      "photoUrl": "https://lh3.googleusercontent.com/a-/AOh14GiGyezGgm9Px4LBw_sc7MFWfjUVhWWsvnAz1Ttg=s64",
      "userId": "00007591481982700116"
     },
     "user_tz": 300
    },
    "id": "osFo14NTvBWA"
   },
   "outputs": [],
   "source": [
    "df_train = df_train.drop(\"dropoff_datetime\", axis=1) # Esto es lo que buscamos predecir  \"duración del trayecto\""
   ]
  },
  {
   "cell_type": "code",
   "execution_count": 5,
   "metadata": {
    "colab": {
     "base_uri": "https://localhost:8080/"
    },
    "executionInfo": {
     "elapsed": 4,
     "status": "ok",
     "timestamp": 1634152860825,
     "user": {
      "displayName": "heydy carrasco huaccha",
      "photoUrl": "https://lh3.googleusercontent.com/a-/AOh14GiGyezGgm9Px4LBw_sc7MFWfjUVhWWsvnAz1Ttg=s64",
      "userId": "00007591481982700116"
     },
     "user_tz": 300
    },
    "id": "9P0Wsu4jvDBh",
    "outputId": "81e57d2d-9437-488c-c34f-9a42c4f70398"
   },
   "outputs": [
    {
     "data": {
      "text/plain": [
       "id                     object\n",
       "vendor_id               int64\n",
       "pickup_datetime        object\n",
       "passenger_count         int64\n",
       "pickup_longitude      float64\n",
       "pickup_latitude       float64\n",
       "dropoff_longitude     float64\n",
       "dropoff_latitude      float64\n",
       "store_and_fwd_flag     object\n",
       "trip_duration           int64\n",
       "pickup_borough         object\n",
       "dropoff_borough        object\n",
       "dtype: object"
      ]
     },
     "execution_count": 5,
     "metadata": {},
     "output_type": "execute_result"
    }
   ],
   "source": [
    "df_train.dtypes\n",
    "# pickup_datetime debería tener un formato de fecha"
   ]
  },
  {
   "cell_type": "code",
   "execution_count": 6,
   "metadata": {
    "executionInfo": {
     "elapsed": 383,
     "status": "ok",
     "timestamp": 1634152861207,
     "user": {
      "displayName": "heydy carrasco huaccha",
      "photoUrl": "https://lh3.googleusercontent.com/a-/AOh14GiGyezGgm9Px4LBw_sc7MFWfjUVhWWsvnAz1Ttg=s64",
      "userId": "00007591481982700116"
     },
     "user_tz": 300
    },
    "id": "Rz1kE36OvGIq"
   },
   "outputs": [],
   "source": [
    "df_train['pickup_datetime']= pd.to_datetime(df_train['pickup_datetime'])"
   ]
  },
  {
   "cell_type": "code",
   "execution_count": 7,
   "metadata": {
    "colab": {
     "base_uri": "https://localhost:8080/"
    },
    "executionInfo": {
     "elapsed": 4,
     "status": "ok",
     "timestamp": 1634152861208,
     "user": {
      "displayName": "heydy carrasco huaccha",
      "photoUrl": "https://lh3.googleusercontent.com/a-/AOh14GiGyezGgm9Px4LBw_sc7MFWfjUVhWWsvnAz1Ttg=s64",
      "userId": "00007591481982700116"
     },
     "user_tz": 300
    },
    "id": "SYFMN_oSOp6U",
    "outputId": "f561deb7-340d-4c69-fcb5-ff528cd713ce"
   },
   "outputs": [
    {
     "data": {
      "text/plain": [
       "id                            object\n",
       "vendor_id                      int64\n",
       "pickup_datetime       datetime64[ns]\n",
       "passenger_count                int64\n",
       "pickup_longitude             float64\n",
       "pickup_latitude              float64\n",
       "dropoff_longitude            float64\n",
       "dropoff_latitude             float64\n",
       "store_and_fwd_flag            object\n",
       "trip_duration                  int64\n",
       "pickup_borough                object\n",
       "dropoff_borough               object\n",
       "dtype: object"
      ]
     },
     "execution_count": 7,
     "metadata": {},
     "output_type": "execute_result"
    }
   ],
   "source": [
    "df_train.dtypes"
   ]
  },
  {
   "cell_type": "code",
   "execution_count": 8,
   "metadata": {
    "colab": {
     "base_uri": "https://localhost:8080/",
     "height": 205
    },
    "executionInfo": {
     "elapsed": 915,
     "status": "ok",
     "timestamp": 1634152862121,
     "user": {
      "displayName": "heydy carrasco huaccha",
      "photoUrl": "https://lh3.googleusercontent.com/a-/AOh14GiGyezGgm9Px4LBw_sc7MFWfjUVhWWsvnAz1Ttg=s64",
      "userId": "00007591481982700116"
     },
     "user_tz": 300
    },
    "id": "E0pXLcPZvHt7",
    "outputId": "be2bf5db-2c21-4d9d-8408-5172ff02bc0d"
   },
   "outputs": [
    {
     "data": {
      "text/html": [
       "<div>\n",
       "<style scoped>\n",
       "    .dataframe tbody tr th:only-of-type {\n",
       "        vertical-align: middle;\n",
       "    }\n",
       "\n",
       "    .dataframe tbody tr th {\n",
       "        vertical-align: top;\n",
       "    }\n",
       "\n",
       "    .dataframe thead th {\n",
       "        text-align: right;\n",
       "    }\n",
       "</style>\n",
       "<table border=\"1\" class=\"dataframe\">\n",
       "  <thead>\n",
       "    <tr style=\"text-align: right;\">\n",
       "      <th></th>\n",
       "      <th>pickup_datetime</th>\n",
       "      <th>year</th>\n",
       "      <th>month</th>\n",
       "      <th>weekday</th>\n",
       "      <th>hour</th>\n",
       "    </tr>\n",
       "  </thead>\n",
       "  <tbody>\n",
       "    <tr>\n",
       "      <th>0</th>\n",
       "      <td>2016-03-14 17:24:55</td>\n",
       "      <td>2016</td>\n",
       "      <td>3</td>\n",
       "      <td>0</td>\n",
       "      <td>17</td>\n",
       "    </tr>\n",
       "    <tr>\n",
       "      <th>1</th>\n",
       "      <td>2016-06-12 00:43:35</td>\n",
       "      <td>2016</td>\n",
       "      <td>6</td>\n",
       "      <td>6</td>\n",
       "      <td>0</td>\n",
       "    </tr>\n",
       "    <tr>\n",
       "      <th>2</th>\n",
       "      <td>2016-01-19 11:35:24</td>\n",
       "      <td>2016</td>\n",
       "      <td>1</td>\n",
       "      <td>1</td>\n",
       "      <td>11</td>\n",
       "    </tr>\n",
       "    <tr>\n",
       "      <th>3</th>\n",
       "      <td>2016-04-06 19:32:31</td>\n",
       "      <td>2016</td>\n",
       "      <td>4</td>\n",
       "      <td>2</td>\n",
       "      <td>19</td>\n",
       "    </tr>\n",
       "    <tr>\n",
       "      <th>4</th>\n",
       "      <td>2016-03-26 13:30:55</td>\n",
       "      <td>2016</td>\n",
       "      <td>3</td>\n",
       "      <td>5</td>\n",
       "      <td>13</td>\n",
       "    </tr>\n",
       "  </tbody>\n",
       "</table>\n",
       "</div>"
      ],
      "text/plain": [
       "      pickup_datetime  year  month  weekday  hour\n",
       "0 2016-03-14 17:24:55  2016      3        0    17\n",
       "1 2016-06-12 00:43:35  2016      6        6     0\n",
       "2 2016-01-19 11:35:24  2016      1        1    11\n",
       "3 2016-04-06 19:32:31  2016      4        2    19\n",
       "4 2016-03-26 13:30:55  2016      3        5    13"
      ]
     },
     "execution_count": 8,
     "metadata": {},
     "output_type": "execute_result"
    }
   ],
   "source": [
    "df_train[\"year\"] = df_train[\"pickup_datetime\"].dt.year\n",
    "df_train[\"month\"] = df_train[\"pickup_datetime\"].dt.month\n",
    "df_train[\"weekday\"] = df_train[\"pickup_datetime\"].dt.weekday\n",
    "df_train[\"hour\"] = df_train[\"pickup_datetime\"].dt.hour\n",
    "\n",
    "df_train[[\"pickup_datetime\",\"year\",\"month\",\"weekday\",\"hour\"]].head()"
   ]
  },
  {
   "cell_type": "code",
   "execution_count": 9,
   "metadata": {
    "colab": {
     "base_uri": "https://localhost:8080/"
    },
    "executionInfo": {
     "elapsed": 5,
     "status": "ok",
     "timestamp": 1634152862122,
     "user": {
      "displayName": "heydy carrasco huaccha",
      "photoUrl": "https://lh3.googleusercontent.com/a-/AOh14GiGyezGgm9Px4LBw_sc7MFWfjUVhWWsvnAz1Ttg=s64",
      "userId": "00007591481982700116"
     },
     "user_tz": 300
    },
    "id": "7PRIyBsBvJ_e",
    "outputId": "188d6be4-3d05-4b4a-bdac-3baf86baea88"
   },
   "outputs": [
    {
     "data": {
      "text/plain": [
       "(1458644, 16)"
      ]
     },
     "execution_count": 9,
     "metadata": {},
     "output_type": "execute_result"
    }
   ],
   "source": [
    "df_train.shape\n",
    "# 1458644 registros y 16 features"
   ]
  },
  {
   "cell_type": "code",
   "execution_count": 10,
   "metadata": {
    "colab": {
     "base_uri": "https://localhost:8080/",
     "height": 319
    },
    "executionInfo": {
     "elapsed": 649,
     "status": "ok",
     "timestamp": 1634152862769,
     "user": {
      "displayName": "heydy carrasco huaccha",
      "photoUrl": "https://lh3.googleusercontent.com/a-/AOh14GiGyezGgm9Px4LBw_sc7MFWfjUVhWWsvnAz1Ttg=s64",
      "userId": "00007591481982700116"
     },
     "user_tz": 300
    },
    "id": "sh87VD2vWscV",
    "outputId": "75c65a4b-56f6-41b8-9466-614a00c3db44"
   },
   "outputs": [
    {
     "data": {
      "text/html": [
       "<div>\n",
       "<style scoped>\n",
       "    .dataframe tbody tr th:only-of-type {\n",
       "        vertical-align: middle;\n",
       "    }\n",
       "\n",
       "    .dataframe tbody tr th {\n",
       "        vertical-align: top;\n",
       "    }\n",
       "\n",
       "    .dataframe thead th {\n",
       "        text-align: right;\n",
       "    }\n",
       "</style>\n",
       "<table border=\"1\" class=\"dataframe\">\n",
       "  <thead>\n",
       "    <tr style=\"text-align: right;\">\n",
       "      <th></th>\n",
       "      <th>vendor_id</th>\n",
       "      <th>passenger_count</th>\n",
       "      <th>pickup_longitude</th>\n",
       "      <th>pickup_latitude</th>\n",
       "      <th>dropoff_longitude</th>\n",
       "      <th>dropoff_latitude</th>\n",
       "      <th>trip_duration</th>\n",
       "      <th>year</th>\n",
       "      <th>month</th>\n",
       "      <th>weekday</th>\n",
       "      <th>hour</th>\n",
       "    </tr>\n",
       "  </thead>\n",
       "  <tbody>\n",
       "    <tr>\n",
       "      <th>count</th>\n",
       "      <td>1.458644e+06</td>\n",
       "      <td>1.458644e+06</td>\n",
       "      <td>1.458644e+06</td>\n",
       "      <td>1.458644e+06</td>\n",
       "      <td>1.458644e+06</td>\n",
       "      <td>1.458644e+06</td>\n",
       "      <td>1.458644e+06</td>\n",
       "      <td>1458644.0</td>\n",
       "      <td>1.458644e+06</td>\n",
       "      <td>1.458644e+06</td>\n",
       "      <td>1.458644e+06</td>\n",
       "    </tr>\n",
       "    <tr>\n",
       "      <th>mean</th>\n",
       "      <td>1.534950e+00</td>\n",
       "      <td>1.664530e+00</td>\n",
       "      <td>-7.397349e+01</td>\n",
       "      <td>4.075092e+01</td>\n",
       "      <td>-7.397342e+01</td>\n",
       "      <td>4.075180e+01</td>\n",
       "      <td>9.594923e+02</td>\n",
       "      <td>2016.0</td>\n",
       "      <td>3.516818e+00</td>\n",
       "      <td>3.050375e+00</td>\n",
       "      <td>1.360648e+01</td>\n",
       "    </tr>\n",
       "    <tr>\n",
       "      <th>std</th>\n",
       "      <td>4.987772e-01</td>\n",
       "      <td>1.314242e+00</td>\n",
       "      <td>7.090186e-02</td>\n",
       "      <td>3.288119e-02</td>\n",
       "      <td>7.064327e-02</td>\n",
       "      <td>3.589056e-02</td>\n",
       "      <td>5.237432e+03</td>\n",
       "      <td>0.0</td>\n",
       "      <td>1.681038e+00</td>\n",
       "      <td>1.954039e+00</td>\n",
       "      <td>6.399693e+00</td>\n",
       "    </tr>\n",
       "    <tr>\n",
       "      <th>min</th>\n",
       "      <td>1.000000e+00</td>\n",
       "      <td>0.000000e+00</td>\n",
       "      <td>-1.219333e+02</td>\n",
       "      <td>3.435970e+01</td>\n",
       "      <td>-1.219333e+02</td>\n",
       "      <td>3.218114e+01</td>\n",
       "      <td>1.000000e+00</td>\n",
       "      <td>2016.0</td>\n",
       "      <td>1.000000e+00</td>\n",
       "      <td>0.000000e+00</td>\n",
       "      <td>0.000000e+00</td>\n",
       "    </tr>\n",
       "    <tr>\n",
       "      <th>25%</th>\n",
       "      <td>1.000000e+00</td>\n",
       "      <td>1.000000e+00</td>\n",
       "      <td>-7.399187e+01</td>\n",
       "      <td>4.073735e+01</td>\n",
       "      <td>-7.399133e+01</td>\n",
       "      <td>4.073588e+01</td>\n",
       "      <td>3.970000e+02</td>\n",
       "      <td>2016.0</td>\n",
       "      <td>2.000000e+00</td>\n",
       "      <td>1.000000e+00</td>\n",
       "      <td>9.000000e+00</td>\n",
       "    </tr>\n",
       "    <tr>\n",
       "      <th>50%</th>\n",
       "      <td>2.000000e+00</td>\n",
       "      <td>1.000000e+00</td>\n",
       "      <td>-7.398174e+01</td>\n",
       "      <td>4.075410e+01</td>\n",
       "      <td>-7.397975e+01</td>\n",
       "      <td>4.075452e+01</td>\n",
       "      <td>6.620000e+02</td>\n",
       "      <td>2016.0</td>\n",
       "      <td>4.000000e+00</td>\n",
       "      <td>3.000000e+00</td>\n",
       "      <td>1.400000e+01</td>\n",
       "    </tr>\n",
       "    <tr>\n",
       "      <th>75%</th>\n",
       "      <td>2.000000e+00</td>\n",
       "      <td>2.000000e+00</td>\n",
       "      <td>-7.396733e+01</td>\n",
       "      <td>4.076836e+01</td>\n",
       "      <td>-7.396301e+01</td>\n",
       "      <td>4.076981e+01</td>\n",
       "      <td>1.075000e+03</td>\n",
       "      <td>2016.0</td>\n",
       "      <td>5.000000e+00</td>\n",
       "      <td>5.000000e+00</td>\n",
       "      <td>1.900000e+01</td>\n",
       "    </tr>\n",
       "    <tr>\n",
       "      <th>max</th>\n",
       "      <td>2.000000e+00</td>\n",
       "      <td>9.000000e+00</td>\n",
       "      <td>-6.133553e+01</td>\n",
       "      <td>5.188108e+01</td>\n",
       "      <td>-6.133553e+01</td>\n",
       "      <td>4.392103e+01</td>\n",
       "      <td>3.526282e+06</td>\n",
       "      <td>2016.0</td>\n",
       "      <td>6.000000e+00</td>\n",
       "      <td>6.000000e+00</td>\n",
       "      <td>2.300000e+01</td>\n",
       "    </tr>\n",
       "  </tbody>\n",
       "</table>\n",
       "</div>"
      ],
      "text/plain": [
       "          vendor_id  passenger_count  ...       weekday          hour\n",
       "count  1.458644e+06     1.458644e+06  ...  1.458644e+06  1.458644e+06\n",
       "mean   1.534950e+00     1.664530e+00  ...  3.050375e+00  1.360648e+01\n",
       "std    4.987772e-01     1.314242e+00  ...  1.954039e+00  6.399693e+00\n",
       "min    1.000000e+00     0.000000e+00  ...  0.000000e+00  0.000000e+00\n",
       "25%    1.000000e+00     1.000000e+00  ...  1.000000e+00  9.000000e+00\n",
       "50%    2.000000e+00     1.000000e+00  ...  3.000000e+00  1.400000e+01\n",
       "75%    2.000000e+00     2.000000e+00  ...  5.000000e+00  1.900000e+01\n",
       "max    2.000000e+00     9.000000e+00  ...  6.000000e+00  2.300000e+01\n",
       "\n",
       "[8 rows x 11 columns]"
      ]
     },
     "execution_count": 10,
     "metadata": {},
     "output_type": "execute_result"
    }
   ],
   "source": [
    "df_train.describe()"
   ]
  },
  {
   "cell_type": "code",
   "execution_count": 11,
   "metadata": {
    "colab": {
     "base_uri": "https://localhost:8080/",
     "height": 319
    },
    "executionInfo": {
     "elapsed": 693,
     "status": "ok",
     "timestamp": 1634152863461,
     "user": {
      "displayName": "heydy carrasco huaccha",
      "photoUrl": "https://lh3.googleusercontent.com/a-/AOh14GiGyezGgm9Px4LBw_sc7MFWfjUVhWWsvnAz1Ttg=s64",
      "userId": "00007591481982700116"
     },
     "user_tz": 300
    },
    "id": "CY0oVR7kXZn7",
    "outputId": "e2f7976c-f6db-43b3-ba0b-8abeeb99af99"
   },
   "outputs": [
    {
     "data": {
      "text/html": [
       "<div>\n",
       "<style scoped>\n",
       "    .dataframe tbody tr th:only-of-type {\n",
       "        vertical-align: middle;\n",
       "    }\n",
       "\n",
       "    .dataframe tbody tr th {\n",
       "        vertical-align: top;\n",
       "    }\n",
       "\n",
       "    .dataframe thead th {\n",
       "        text-align: right;\n",
       "    }\n",
       "</style>\n",
       "<table border=\"1\" class=\"dataframe\">\n",
       "  <thead>\n",
       "    <tr style=\"text-align: right;\">\n",
       "      <th></th>\n",
       "      <th>vendor_id</th>\n",
       "      <th>passenger_count</th>\n",
       "      <th>pickup_longitude</th>\n",
       "      <th>pickup_latitude</th>\n",
       "      <th>dropoff_longitude</th>\n",
       "      <th>dropoff_latitude</th>\n",
       "      <th>trip_duration</th>\n",
       "      <th>year</th>\n",
       "      <th>month</th>\n",
       "      <th>weekday</th>\n",
       "      <th>hour</th>\n",
       "    </tr>\n",
       "  </thead>\n",
       "  <tbody>\n",
       "    <tr>\n",
       "      <th>count</th>\n",
       "      <td>1458644.00000</td>\n",
       "      <td>1458644.00000</td>\n",
       "      <td>1458644.00000</td>\n",
       "      <td>1458644.00000</td>\n",
       "      <td>1458644.00000</td>\n",
       "      <td>1458644.00000</td>\n",
       "      <td>1458644.00000</td>\n",
       "      <td>1458644.00000</td>\n",
       "      <td>1458644.00000</td>\n",
       "      <td>1458644.00000</td>\n",
       "      <td>1458644.00000</td>\n",
       "    </tr>\n",
       "    <tr>\n",
       "      <th>mean</th>\n",
       "      <td>1.53495</td>\n",
       "      <td>1.66453</td>\n",
       "      <td>-73.97349</td>\n",
       "      <td>40.75092</td>\n",
       "      <td>-73.97342</td>\n",
       "      <td>40.75180</td>\n",
       "      <td>959.49227</td>\n",
       "      <td>2016.00000</td>\n",
       "      <td>3.51682</td>\n",
       "      <td>3.05037</td>\n",
       "      <td>13.60648</td>\n",
       "    </tr>\n",
       "    <tr>\n",
       "      <th>std</th>\n",
       "      <td>0.49878</td>\n",
       "      <td>1.31424</td>\n",
       "      <td>0.07090</td>\n",
       "      <td>0.03288</td>\n",
       "      <td>0.07064</td>\n",
       "      <td>0.03589</td>\n",
       "      <td>5237.43172</td>\n",
       "      <td>0.00000</td>\n",
       "      <td>1.68104</td>\n",
       "      <td>1.95404</td>\n",
       "      <td>6.39969</td>\n",
       "    </tr>\n",
       "    <tr>\n",
       "      <th>min</th>\n",
       "      <td>1.00000</td>\n",
       "      <td>0.00000</td>\n",
       "      <td>-121.93334</td>\n",
       "      <td>34.35970</td>\n",
       "      <td>-121.93330</td>\n",
       "      <td>32.18114</td>\n",
       "      <td>1.00000</td>\n",
       "      <td>2016.00000</td>\n",
       "      <td>1.00000</td>\n",
       "      <td>0.00000</td>\n",
       "      <td>0.00000</td>\n",
       "    </tr>\n",
       "    <tr>\n",
       "      <th>25%</th>\n",
       "      <td>1.00000</td>\n",
       "      <td>1.00000</td>\n",
       "      <td>-73.99187</td>\n",
       "      <td>40.73735</td>\n",
       "      <td>-73.99133</td>\n",
       "      <td>40.73588</td>\n",
       "      <td>397.00000</td>\n",
       "      <td>2016.00000</td>\n",
       "      <td>2.00000</td>\n",
       "      <td>1.00000</td>\n",
       "      <td>9.00000</td>\n",
       "    </tr>\n",
       "    <tr>\n",
       "      <th>50%</th>\n",
       "      <td>2.00000</td>\n",
       "      <td>1.00000</td>\n",
       "      <td>-73.98174</td>\n",
       "      <td>40.75410</td>\n",
       "      <td>-73.97975</td>\n",
       "      <td>40.75452</td>\n",
       "      <td>662.00000</td>\n",
       "      <td>2016.00000</td>\n",
       "      <td>4.00000</td>\n",
       "      <td>3.00000</td>\n",
       "      <td>14.00000</td>\n",
       "    </tr>\n",
       "    <tr>\n",
       "      <th>75%</th>\n",
       "      <td>2.00000</td>\n",
       "      <td>2.00000</td>\n",
       "      <td>-73.96733</td>\n",
       "      <td>40.76836</td>\n",
       "      <td>-73.96301</td>\n",
       "      <td>40.76981</td>\n",
       "      <td>1075.00000</td>\n",
       "      <td>2016.00000</td>\n",
       "      <td>5.00000</td>\n",
       "      <td>5.00000</td>\n",
       "      <td>19.00000</td>\n",
       "    </tr>\n",
       "    <tr>\n",
       "      <th>max</th>\n",
       "      <td>2.00000</td>\n",
       "      <td>9.00000</td>\n",
       "      <td>-61.33553</td>\n",
       "      <td>51.88108</td>\n",
       "      <td>-61.33553</td>\n",
       "      <td>43.92103</td>\n",
       "      <td>3526282.00000</td>\n",
       "      <td>2016.00000</td>\n",
       "      <td>6.00000</td>\n",
       "      <td>6.00000</td>\n",
       "      <td>23.00000</td>\n",
       "    </tr>\n",
       "  </tbody>\n",
       "</table>\n",
       "</div>"
      ],
      "text/plain": [
       "          vendor_id  passenger_count  ...       weekday          hour\n",
       "count 1458644.00000    1458644.00000  ... 1458644.00000 1458644.00000\n",
       "mean        1.53495          1.66453  ...       3.05037      13.60648\n",
       "std         0.49878          1.31424  ...       1.95404       6.39969\n",
       "min         1.00000          0.00000  ...       0.00000       0.00000\n",
       "25%         1.00000          1.00000  ...       1.00000       9.00000\n",
       "50%         2.00000          1.00000  ...       3.00000      14.00000\n",
       "75%         2.00000          2.00000  ...       5.00000      19.00000\n",
       "max         2.00000          9.00000  ...       6.00000      23.00000\n",
       "\n",
       "[8 rows x 11 columns]"
      ]
     },
     "execution_count": 11,
     "metadata": {},
     "output_type": "execute_result"
    }
   ],
   "source": [
    "pd.set_option('display.float_format', lambda x: '%.5f' % x) \n",
    "# Convertir a todos con # 5 decimales\n",
    "df_train.describe()"
   ]
  },
  {
   "cell_type": "markdown",
   "metadata": {
    "id": "bH71c1ivXzFH"
   },
   "source": [
    "\n",
    "\n",
    "*   La cantidad de pasajeros transportados va desde 0 hasta 9\n",
    "*   La duración puede tomar mínimo 1 segundo y máximo 3'526.282 segundos que aproximadamente son 5.938 horas (¿Estos datos tienen sentido?) Es importante revisar si existen datos atípicos\n",
    "* Los datos corresponden a los meses entre enero y junio del año 2016"
   ]
  },
  {
   "cell_type": "code",
   "execution_count": 12,
   "metadata": {
    "colab": {
     "base_uri": "https://localhost:8080/",
     "height": 215
    },
    "executionInfo": {
     "elapsed": 4,
     "status": "ok",
     "timestamp": 1634152863461,
     "user": {
      "displayName": "heydy carrasco huaccha",
      "photoUrl": "https://lh3.googleusercontent.com/a-/AOh14GiGyezGgm9Px4LBw_sc7MFWfjUVhWWsvnAz1Ttg=s64",
      "userId": "00007591481982700116"
     },
     "user_tz": 300
    },
    "id": "-7D3xJ9xyYLE",
    "outputId": "1f4b01e6-f700-454b-b3b9-21810161cb33"
   },
   "outputs": [
    {
     "data": {
      "text/html": [
       "<div>\n",
       "<style scoped>\n",
       "    .dataframe tbody tr th:only-of-type {\n",
       "        vertical-align: middle;\n",
       "    }\n",
       "\n",
       "    .dataframe tbody tr th {\n",
       "        vertical-align: top;\n",
       "    }\n",
       "\n",
       "    .dataframe thead th {\n",
       "        text-align: right;\n",
       "    }\n",
       "</style>\n",
       "<table border=\"1\" class=\"dataframe\">\n",
       "  <thead>\n",
       "    <tr style=\"text-align: right;\">\n",
       "      <th></th>\n",
       "      <th>id</th>\n",
       "      <th>vendor_id</th>\n",
       "      <th>pickup_datetime</th>\n",
       "      <th>passenger_count</th>\n",
       "      <th>pickup_longitude</th>\n",
       "      <th>pickup_latitude</th>\n",
       "      <th>dropoff_longitude</th>\n",
       "      <th>dropoff_latitude</th>\n",
       "      <th>store_and_fwd_flag</th>\n",
       "      <th>trip_duration</th>\n",
       "      <th>pickup_borough</th>\n",
       "      <th>dropoff_borough</th>\n",
       "      <th>year</th>\n",
       "      <th>month</th>\n",
       "      <th>weekday</th>\n",
       "      <th>hour</th>\n",
       "    </tr>\n",
       "  </thead>\n",
       "  <tbody>\n",
       "    <tr>\n",
       "      <th>0</th>\n",
       "      <td>id2875421</td>\n",
       "      <td>2</td>\n",
       "      <td>2016-03-14 17:24:55</td>\n",
       "      <td>1</td>\n",
       "      <td>-73.98215</td>\n",
       "      <td>40.76794</td>\n",
       "      <td>-73.96463</td>\n",
       "      <td>40.76560</td>\n",
       "      <td>N</td>\n",
       "      <td>455</td>\n",
       "      <td>Manhattan</td>\n",
       "      <td>Manhattan</td>\n",
       "      <td>2016</td>\n",
       "      <td>3</td>\n",
       "      <td>0</td>\n",
       "      <td>17</td>\n",
       "    </tr>\n",
       "    <tr>\n",
       "      <th>1</th>\n",
       "      <td>id2377394</td>\n",
       "      <td>1</td>\n",
       "      <td>2016-06-12 00:43:35</td>\n",
       "      <td>1</td>\n",
       "      <td>-73.98042</td>\n",
       "      <td>40.73856</td>\n",
       "      <td>-73.99948</td>\n",
       "      <td>40.73115</td>\n",
       "      <td>N</td>\n",
       "      <td>663</td>\n",
       "      <td>Manhattan</td>\n",
       "      <td>Brooklyn</td>\n",
       "      <td>2016</td>\n",
       "      <td>6</td>\n",
       "      <td>6</td>\n",
       "      <td>0</td>\n",
       "    </tr>\n",
       "    <tr>\n",
       "      <th>2</th>\n",
       "      <td>id3858529</td>\n",
       "      <td>2</td>\n",
       "      <td>2016-01-19 11:35:24</td>\n",
       "      <td>1</td>\n",
       "      <td>-73.97903</td>\n",
       "      <td>40.76394</td>\n",
       "      <td>-74.00533</td>\n",
       "      <td>40.71009</td>\n",
       "      <td>N</td>\n",
       "      <td>2124</td>\n",
       "      <td>Manhattan</td>\n",
       "      <td>Brooklyn</td>\n",
       "      <td>2016</td>\n",
       "      <td>1</td>\n",
       "      <td>1</td>\n",
       "      <td>11</td>\n",
       "    </tr>\n",
       "  </tbody>\n",
       "</table>\n",
       "</div>"
      ],
      "text/plain": [
       "          id  vendor_id     pickup_datetime  ...  month  weekday  hour\n",
       "0  id2875421          2 2016-03-14 17:24:55  ...      3        0    17\n",
       "1  id2377394          1 2016-06-12 00:43:35  ...      6        6     0\n",
       "2  id3858529          2 2016-01-19 11:35:24  ...      1        1    11\n",
       "\n",
       "[3 rows x 16 columns]"
      ]
     },
     "execution_count": 12,
     "metadata": {},
     "output_type": "execute_result"
    }
   ],
   "source": [
    "df_train.head(3)"
   ]
  },
  {
   "cell_type": "code",
   "execution_count": 13,
   "metadata": {
    "colab": {
     "base_uri": "https://localhost:8080/",
     "height": 299
    },
    "executionInfo": {
     "elapsed": 537,
     "status": "ok",
     "timestamp": 1634152863995,
     "user": {
      "displayName": "heydy carrasco huaccha",
      "photoUrl": "https://lh3.googleusercontent.com/a-/AOh14GiGyezGgm9Px4LBw_sc7MFWfjUVhWWsvnAz1Ttg=s64",
      "userId": "00007591481982700116"
     },
     "user_tz": 300
    },
    "id": "woQGURfwvLEX",
    "outputId": "0ed4a262-33f8-4d5f-a5db-2d36d92d458c"
   },
   "outputs": [
    {
     "data": {
      "text/html": [
       "<div>\n",
       "<style scoped>\n",
       "    .dataframe tbody tr th:only-of-type {\n",
       "        vertical-align: middle;\n",
       "    }\n",
       "\n",
       "    .dataframe tbody tr th {\n",
       "        vertical-align: top;\n",
       "    }\n",
       "\n",
       "    .dataframe thead th {\n",
       "        text-align: right;\n",
       "    }\n",
       "</style>\n",
       "<table border=\"1\" class=\"dataframe\">\n",
       "  <thead>\n",
       "    <tr style=\"text-align: right;\">\n",
       "      <th></th>\n",
       "      <th>id</th>\n",
       "      <th>trip_duration</th>\n",
       "    </tr>\n",
       "  </thead>\n",
       "  <tbody>\n",
       "    <tr>\n",
       "      <th>978383</th>\n",
       "      <td>id0053347</td>\n",
       "      <td>3526282</td>\n",
       "    </tr>\n",
       "    <tr>\n",
       "      <th>924150</th>\n",
       "      <td>id1325766</td>\n",
       "      <td>2227612</td>\n",
       "    </tr>\n",
       "    <tr>\n",
       "      <th>680594</th>\n",
       "      <td>id0369307</td>\n",
       "      <td>2049578</td>\n",
       "    </tr>\n",
       "    <tr>\n",
       "      <th>355003</th>\n",
       "      <td>id1864733</td>\n",
       "      <td>1939736</td>\n",
       "    </tr>\n",
       "    <tr>\n",
       "      <th>1234291</th>\n",
       "      <td>id1942836</td>\n",
       "      <td>86392</td>\n",
       "    </tr>\n",
       "    <tr>\n",
       "      <th>295382</th>\n",
       "      <td>id0593332</td>\n",
       "      <td>86391</td>\n",
       "    </tr>\n",
       "    <tr>\n",
       "      <th>73816</th>\n",
       "      <td>id0953667</td>\n",
       "      <td>86390</td>\n",
       "    </tr>\n",
       "    <tr>\n",
       "      <th>59891</th>\n",
       "      <td>id2837671</td>\n",
       "      <td>86387</td>\n",
       "    </tr>\n",
       "  </tbody>\n",
       "</table>\n",
       "</div>"
      ],
      "text/plain": [
       "                id  trip_duration\n",
       "978383   id0053347        3526282\n",
       "924150   id1325766        2227612\n",
       "680594   id0369307        2049578\n",
       "355003   id1864733        1939736\n",
       "1234291  id1942836          86392\n",
       "295382   id0593332          86391\n",
       "73816    id0953667          86390\n",
       "59891    id2837671          86387"
      ]
     },
     "execution_count": 13,
     "metadata": {},
     "output_type": "execute_result"
    }
   ],
   "source": [
    "df_train[['id','trip_duration']].sort_values('trip_duration',ascending=False).head(n=8)"
   ]
  },
  {
   "cell_type": "markdown",
   "metadata": {
    "id": "G6SqcCo8dAzK"
   },
   "source": [
    "Hay 5 registros que tienen un valor mayor a 1'900.000 segundos (<> 527.7 horas <> Aprox. 22 días)\n",
    "\n",
    "Estos registros pueden ser calificados como outliers y por lo tanto pueden ser eliminados."
   ]
  },
  {
   "cell_type": "code",
   "execution_count": 14,
   "metadata": {
    "colab": {
     "base_uri": "https://localhost:8080/",
     "height": 264
    },
    "executionInfo": {
     "elapsed": 432,
     "status": "ok",
     "timestamp": 1634152864425,
     "user": {
      "displayName": "heydy carrasco huaccha",
      "photoUrl": "https://lh3.googleusercontent.com/a-/AOh14GiGyezGgm9Px4LBw_sc7MFWfjUVhWWsvnAz1Ttg=s64",
      "userId": "00007591481982700116"
     },
     "user_tz": 300
    },
    "id": "fOsxbbMlwCG7",
    "outputId": "44f02e78-44a9-4748-f195-7c347528c590"
   },
   "outputs": [
    {
     "data": {
      "text/html": [
       "<div>\n",
       "<style scoped>\n",
       "    .dataframe tbody tr th:only-of-type {\n",
       "        vertical-align: middle;\n",
       "    }\n",
       "\n",
       "    .dataframe tbody tr th {\n",
       "        vertical-align: top;\n",
       "    }\n",
       "\n",
       "    .dataframe thead th {\n",
       "        text-align: right;\n",
       "    }\n",
       "</style>\n",
       "<table border=\"1\" class=\"dataframe\">\n",
       "  <thead>\n",
       "    <tr style=\"text-align: right;\">\n",
       "      <th></th>\n",
       "      <th>id</th>\n",
       "      <th>vendor_id</th>\n",
       "      <th>pickup_datetime</th>\n",
       "      <th>passenger_count</th>\n",
       "      <th>pickup_longitude</th>\n",
       "      <th>pickup_latitude</th>\n",
       "      <th>dropoff_longitude</th>\n",
       "      <th>dropoff_latitude</th>\n",
       "      <th>store_and_fwd_flag</th>\n",
       "      <th>trip_duration</th>\n",
       "      <th>pickup_borough</th>\n",
       "      <th>dropoff_borough</th>\n",
       "      <th>year</th>\n",
       "      <th>month</th>\n",
       "      <th>weekday</th>\n",
       "      <th>hour</th>\n",
       "    </tr>\n",
       "  </thead>\n",
       "  <tbody>\n",
       "    <tr>\n",
       "      <th>355003</th>\n",
       "      <td>id1864733</td>\n",
       "      <td>1</td>\n",
       "      <td>2016-01-05 00:19:42</td>\n",
       "      <td>1</td>\n",
       "      <td>-73.78965</td>\n",
       "      <td>40.64356</td>\n",
       "      <td>-73.95681</td>\n",
       "      <td>40.77309</td>\n",
       "      <td>N</td>\n",
       "      <td>1939736</td>\n",
       "      <td>Staten_island</td>\n",
       "      <td>Manhattan</td>\n",
       "      <td>2016</td>\n",
       "      <td>1</td>\n",
       "      <td>1</td>\n",
       "      <td>0</td>\n",
       "    </tr>\n",
       "    <tr>\n",
       "      <th>680594</th>\n",
       "      <td>id0369307</td>\n",
       "      <td>1</td>\n",
       "      <td>2016-02-13 22:38:00</td>\n",
       "      <td>2</td>\n",
       "      <td>-73.92168</td>\n",
       "      <td>40.73525</td>\n",
       "      <td>-73.98475</td>\n",
       "      <td>40.75998</td>\n",
       "      <td>N</td>\n",
       "      <td>2049578</td>\n",
       "      <td>Brooklyn</td>\n",
       "      <td>Manhattan</td>\n",
       "      <td>2016</td>\n",
       "      <td>2</td>\n",
       "      <td>5</td>\n",
       "      <td>22</td>\n",
       "    </tr>\n",
       "    <tr>\n",
       "      <th>924150</th>\n",
       "      <td>id1325766</td>\n",
       "      <td>1</td>\n",
       "      <td>2016-01-05 06:14:15</td>\n",
       "      <td>1</td>\n",
       "      <td>-73.98379</td>\n",
       "      <td>40.74232</td>\n",
       "      <td>-73.98549</td>\n",
       "      <td>40.72768</td>\n",
       "      <td>N</td>\n",
       "      <td>2227612</td>\n",
       "      <td>Manhattan</td>\n",
       "      <td>Brooklyn</td>\n",
       "      <td>2016</td>\n",
       "      <td>1</td>\n",
       "      <td>1</td>\n",
       "      <td>6</td>\n",
       "    </tr>\n",
       "    <tr>\n",
       "      <th>978383</th>\n",
       "      <td>id0053347</td>\n",
       "      <td>1</td>\n",
       "      <td>2016-02-13 22:46:52</td>\n",
       "      <td>1</td>\n",
       "      <td>-73.78391</td>\n",
       "      <td>40.64863</td>\n",
       "      <td>-73.97827</td>\n",
       "      <td>40.75020</td>\n",
       "      <td>N</td>\n",
       "      <td>3526282</td>\n",
       "      <td>Queens</td>\n",
       "      <td>Manhattan</td>\n",
       "      <td>2016</td>\n",
       "      <td>2</td>\n",
       "      <td>5</td>\n",
       "      <td>22</td>\n",
       "    </tr>\n",
       "  </tbody>\n",
       "</table>\n",
       "</div>"
      ],
      "text/plain": [
       "               id  vendor_id     pickup_datetime  ...  month  weekday  hour\n",
       "355003  id1864733          1 2016-01-05 00:19:42  ...      1        1     0\n",
       "680594  id0369307          1 2016-02-13 22:38:00  ...      2        5    22\n",
       "924150  id1325766          1 2016-01-05 06:14:15  ...      1        1     6\n",
       "978383  id0053347          1 2016-02-13 22:46:52  ...      2        5    22\n",
       "\n",
       "[4 rows x 16 columns]"
      ]
     },
     "execution_count": 14,
     "metadata": {},
     "output_type": "execute_result"
    }
   ],
   "source": [
    "df_train[df_train['trip_duration'] > 100000] # <> 27 horas"
   ]
  },
  {
   "cell_type": "code",
   "execution_count": 15,
   "metadata": {
    "executionInfo": {
     "elapsed": 5,
     "status": "ok",
     "timestamp": 1634152864425,
     "user": {
      "displayName": "heydy carrasco huaccha",
      "photoUrl": "https://lh3.googleusercontent.com/a-/AOh14GiGyezGgm9Px4LBw_sc7MFWfjUVhWWsvnAz1Ttg=s64",
      "userId": "00007591481982700116"
     },
     "user_tz": 300
    },
    "id": "1vo83FTHvK5X"
   },
   "outputs": [],
   "source": [
    "df_train = df_train[df_train['trip_duration'] < 100000]"
   ]
  },
  {
   "cell_type": "markdown",
   "metadata": {
    "id": "rQqSi46bdDJX"
   },
   "source": [
    "**CHECK POINT #1**\n",
    "> Con cuántos registros y columnas queda el data set? "
   ]
  },
  {
   "cell_type": "code",
   "execution_count": 16,
   "metadata": {
    "colab": {
     "base_uri": "https://localhost:8080/"
    },
    "executionInfo": {
     "elapsed": 5,
     "status": "ok",
     "timestamp": 1634152864425,
     "user": {
      "displayName": "heydy carrasco huaccha",
      "photoUrl": "https://lh3.googleusercontent.com/a-/AOh14GiGyezGgm9Px4LBw_sc7MFWfjUVhWWsvnAz1Ttg=s64",
      "userId": "00007591481982700116"
     },
     "user_tz": 300
    },
    "id": "RJzVmdZjvUU7",
    "outputId": "06dfecb2-9067-406a-de4b-d5b69ed4a165"
   },
   "outputs": [
    {
     "data": {
      "text/plain": [
       "(1458640, 16)"
      ]
     },
     "execution_count": 16,
     "metadata": {},
     "output_type": "execute_result"
    }
   ],
   "source": [
    "df_train.shape\n",
    "# 1 458 640 datos\n",
    "# 16 columnas"
   ]
  },
  {
   "cell_type": "markdown",
   "metadata": {
    "id": "YM0Vyaaq2XAa"
   },
   "source": [
    "## Análisis de variables"
   ]
  },
  {
   "cell_type": "code",
   "execution_count": 17,
   "metadata": {
    "executionInfo": {
     "elapsed": 2007,
     "status": "ok",
     "timestamp": 1634152866429,
     "user": {
      "displayName": "heydy carrasco huaccha",
      "photoUrl": "https://lh3.googleusercontent.com/a-/AOh14GiGyezGgm9Px4LBw_sc7MFWfjUVhWWsvnAz1Ttg=s64",
      "userId": "00007591481982700116"
     },
     "user_tz": 300
    },
    "id": "2hgC284C1unj"
   },
   "outputs": [],
   "source": [
    "#!pip install plotly #ejecutar este comando si no se tiene la librería de plotly instalada\n",
    "import matplotlib.pyplot as plt\n",
    "import seaborn as sns\n",
    "import plotly.express as px"
   ]
  },
  {
   "cell_type": "code",
   "execution_count": 18,
   "metadata": {
    "colab": {
     "base_uri": "https://localhost:8080/"
    },
    "executionInfo": {
     "elapsed": 4,
     "status": "ok",
     "timestamp": 1634152866429,
     "user": {
      "displayName": "heydy carrasco huaccha",
      "photoUrl": "https://lh3.googleusercontent.com/a-/AOh14GiGyezGgm9Px4LBw_sc7MFWfjUVhWWsvnAz1Ttg=s64",
      "userId": "00007591481982700116"
     },
     "user_tz": 300
    },
    "id": "JuTQlASjMcUO",
    "outputId": "b8078966-685a-47f9-b9a6-5b1fd28bead0"
   },
   "outputs": [
    {
     "name": "stdout",
     "output_type": "stream",
     "text": [
      "4.4.1\n"
     ]
    }
   ],
   "source": [
    "import plotly\n",
    "print(plotly.__version__)"
   ]
  },
  {
   "cell_type": "markdown",
   "metadata": {
    "id": "cRQTH042Mnv6"
   },
   "source": [
    "### Matriz de correlaciones"
   ]
  },
  {
   "cell_type": "code",
   "execution_count": 19,
   "metadata": {
    "colab": {
     "base_uri": "https://localhost:8080/",
     "height": 335
    },
    "executionInfo": {
     "elapsed": 1727,
     "status": "ok",
     "timestamp": 1634152868155,
     "user": {
      "displayName": "heydy carrasco huaccha",
      "photoUrl": "https://lh3.googleusercontent.com/a-/AOh14GiGyezGgm9Px4LBw_sc7MFWfjUVhWWsvnAz1Ttg=s64",
      "userId": "00007591481982700116"
     },
     "user_tz": 300
    },
    "id": "hm8AQqnW1ukz",
    "outputId": "dbb7f689-bfe4-45aa-8a30-7c5250cedb95"
   },
   "outputs": [
    {
     "data": {
      "image/png": "[encoded data removed]",
      "text/plain": [
       "<Figure size 1800x720 with 2 Axes>"
      ]
     },
     "metadata": {
      "needs_background": "light"
     },
     "output_type": "display_data"
    }
   ],
   "source": [
    "plt.subplots(figsize=(25,10))\n",
    "sns.heatmap(df_train.corr(), annot = True, fmt='.1g', cmap=\"mako\");\n",
    "# annot = True => Mostrar los valores \n",
    "# fmt='.1g' => Formato a los valores\n",
    "# cmap=\"coolwarm\" => Color del mapa de calor "
   ]
  },
  {
   "cell_type": "markdown",
   "metadata": {
    "id": "zOK8taFFit-M"
   },
   "source": [
    "**NOTA**\n",
    "\n",
    "1. La **correlación** es en realidad cualquier relación estadística, ya sea causal o no, entre dos variables aleatorias en datos bivariados.\n",
    "\n",
    "2. El **coeficiente de correlación** es una medida estadística de la fuerza de la relación entre los movimientos relativos de dos variables; sus valores oscilan entre -1.0 y 1.0. \n",
    "  * -1.0  correlación negativa perfecta\n",
    "  * 1.0  correlación positiva perfecta\n",
    "  * 0 no muestra ninguna relación lineal\n",
    "\n",
    "---\n",
    "\n",
    "[Pearson V/S Spearman Correlation Coefficient](https://towardsdatascience.com/clearly-explained-pearson-v-s-spearman-correlation-coefficient-ada2f473b8)  \n",
    "\n",
    "1. Coeficiente de correlación de Pearson\n",
    "\n",
    "  Conocido como r de Pearson o correlación bivariada es una estadística que mide la correlación lineal entre dos variables X e Y.\n",
    "  **Evalua SÓLO una relación lineal entre dos variables continuas**\n",
    "\n",
    "2. Coeficiente de correlación de Spearman\n",
    "\n",
    "  Conocido como ρ de Spearman, es una medida no paramétrica de la correlación de rango.  Puede evaluar una **relación monótona entre dos variables**: continua u ordinal y se basa en los valores clasificados para cada variable en lugar de los datos sin procesar.\n",
    "\n",
    "  **¿Qué es una relación monótona?**\n",
    "  - A medida que aumenta el valor de una variable, también lo hace el valor de la otra variable.\n",
    "  - A medida que aumenta el valor de una variable, el valor de la otra variable disminuye.\n",
    "\n",
    "\n",
    "\n",
    "\n"
   ]
  },
  {
   "cell_type": "code",
   "execution_count": 20,
   "metadata": {
    "executionInfo": {
     "elapsed": 3,
     "status": "ok",
     "timestamp": 1634152868156,
     "user": {
      "displayName": "heydy carrasco huaccha",
      "photoUrl": "https://lh3.googleusercontent.com/a-/AOh14GiGyezGgm9Px4LBw_sc7MFWfjUVhWWsvnAz1Ttg=s64",
      "userId": "00007591481982700116"
     },
     "user_tz": 300
    },
    "id": "0ffZ7_mB6vIg"
   },
   "outputs": [],
   "source": [
    "# Pearson <> Evaluar una relación lineal\n",
    "# Spearman <> Evaluar una relacion monotónica entre dos variables"
   ]
  },
  {
   "cell_type": "markdown",
   "metadata": {
    "id": "H6YukDfd6u7B"
   },
   "source": [
    "### Variable respuesta: `trip_duration`"
   ]
  },
  {
   "cell_type": "code",
   "execution_count": 21,
   "metadata": {
    "colab": {
     "base_uri": "https://localhost:8080/",
     "height": 0
    },
    "executionInfo": {
     "elapsed": 304,
     "status": "ok",
     "timestamp": 1634152868457,
     "user": {
      "displayName": "heydy carrasco huaccha",
      "photoUrl": "https://lh3.googleusercontent.com/a-/AOh14GiGyezGgm9Px4LBw_sc7MFWfjUVhWWsvnAz1Ttg=s64",
      "userId": "00007591481982700116"
     },
     "user_tz": 300
    },
    "id": "Wqv_SrWK1uh7",
    "outputId": "cf52dc12-00ef-4516-d9a4-cfc62e40fddb"
   },
   "outputs": [
    {
     "data": {
      "image/png": "[encoded data removed]",
      "text/plain": [
       "<Figure size 432x288 with 1 Axes>"
      ]
     },
     "metadata": {
      "needs_background": "light"
     },
     "output_type": "display_data"
    }
   ],
   "source": [
    "fig, ax = plt.subplots()\n",
    "sns.boxplot(data = df_train\n",
    "             , x = \"trip_duration\"\n",
    "             , ax = ax)\n",
    "ax.set_title(\"Boxplot: trip duration\")\n",
    "ax.set_xlabel(\"Trip duration\")\n",
    "\n",
    "plt.show()"
   ]
  },
  {
   "cell_type": "code",
   "execution_count": 22,
   "metadata": {
    "colab": {
     "base_uri": "https://localhost:8080/",
     "height": 0
    },
    "executionInfo": {
     "elapsed": 301,
     "status": "ok",
     "timestamp": 1634152868756,
     "user": {
      "displayName": "heydy carrasco huaccha",
      "photoUrl": "https://lh3.googleusercontent.com/a-/AOh14GiGyezGgm9Px4LBw_sc7MFWfjUVhWWsvnAz1Ttg=s64",
      "userId": "00007591481982700116"
     },
     "user_tz": 300
    },
    "id": "xKvWjTI-1uez",
    "outputId": "51ffd8fc-d312-451b-e4de-21cf603593f0"
   },
   "outputs": [
    {
     "data": {
      "image/png": "[encoded data removed]",
      "text/plain": [
       "<Figure size 432x288 with 1 Axes>"
      ]
     },
     "metadata": {
      "needs_background": "light"
     },
     "output_type": "display_data"
    }
   ],
   "source": [
    "fig, ax = plt.subplots()\n",
    "sns.boxplot(data = df_train\n",
    "            , x = \"trip_duration\"\n",
    "            , ax = ax)\n",
    "ax.set_xlim(0,10000)\n",
    "ax.set_title(\"Boxplot: Trip duration\")\n",
    "ax.set_xlabel(\"Trip duration\")\n",
    "plt.show()"
   ]
  },
  {
   "cell_type": "markdown",
   "metadata": {
    "id": "PaBBSvYIbZh5"
   },
   "source": [
    "Otra versión del boxplot para la variable `trip_duration` usando la librería `plotly`."
   ]
  },
  {
   "cell_type": "code",
   "execution_count": 23,
   "metadata": {
    "executionInfo": {
     "elapsed": 3,
     "status": "ok",
     "timestamp": 1634152868757,
     "user": {
      "displayName": "heydy carrasco huaccha",
      "photoUrl": "https://lh3.googleusercontent.com/a-/AOh14GiGyezGgm9Px4LBw_sc7MFWfjUVhWWsvnAz1Ttg=s64",
      "userId": "00007591481982700116"
     },
     "user_tz": 300
    },
    "id": "Tb6kqFb-4xTO"
   },
   "outputs": [],
   "source": [
    "import matplotlib.style \n",
    "import matplotlib as mpl \n",
    "mpl.style.use('classic')"
   ]
  },
  {
   "cell_type": "code",
   "execution_count": 24,
   "metadata": {
    "colab": {
     "base_uri": "https://localhost:8080/",
     "height": 0,
     "output_embedded_package_id": "1iB6vuP3hyROrLBc6m7cNnRzQkfjhFwBQ"
    },
    "executionInfo": {
     "elapsed": 12991,
     "status": "ok",
     "timestamp": 1634152881745,
     "user": {
      "displayName": "heydy carrasco huaccha",
      "photoUrl": "https://lh3.googleusercontent.com/a-/AOh14GiGyezGgm9Px4LBw_sc7MFWfjUVhWWsvnAz1Ttg=s64",
      "userId": "00007591481982700116"
     },
     "user_tz": 300
    },
    "id": "DI_sD9TO1ubq",
    "outputId": "eaaea6c3-4652-4d60-d037-724a5340c2dd"
   },
   "outputs": [
    {
     "data": {
      "text/plain": [
       "Output hidden; open in https://colab.research.google.com to view."
      ]
     },
     "metadata": {},
     "output_type": "display_data"
    }
   ],
   "source": [
    "fig = px.box(df_train\n",
    "             , y = \"trip_duration\"\n",
    "             , labels = {\"trip_duration\": \"Trip duration\"}\n",
    "             , title = \"Boxplot: Trip duration\")\n",
    "fig.update_yaxes(range=[0, 10000])\n",
    "fig.show()"
   ]
  },
  {
   "cell_type": "markdown",
   "metadata": {
    "id": "r7JjDZ04cJiC"
   },
   "source": [
    "Luego de ver con diferentes librerías cómo es la distribución de la variable respuesta trip_duration podemos concluir que tiene muchos outliers, el promedio de duración de 662seg (es decir, 11 minutos) y el 75% de los viajes duran 1075seg o menos (18min)."
   ]
  },
  {
   "cell_type": "markdown",
   "metadata": {
    "id": "f1-2eS2IcOGE"
   },
   "source": [
    "### Vendor Id"
   ]
  },
  {
   "cell_type": "markdown",
   "metadata": {
    "id": "vPsD2Y9tcWzB"
   },
   "source": [
    "Usando `seaborn` podemos realizar una gráfica de dispersión de datos cuando una de las variables es categórica, su nombre es `stripplot`."
   ]
  },
  {
   "cell_type": "code",
   "execution_count": 25,
   "metadata": {
    "colab": {
     "base_uri": "https://localhost:8080/",
     "height": 474
    },
    "executionInfo": {
     "elapsed": 11934,
     "status": "ok",
     "timestamp": 1634152893677,
     "user": {
      "displayName": "heydy carrasco huaccha",
      "photoUrl": "https://lh3.googleusercontent.com/a-/AOh14GiGyezGgm9Px4LBw_sc7MFWfjUVhWWsvnAz1Ttg=s64",
      "userId": "00007591481982700116"
     },
     "user_tz": 300
    },
    "id": "845csXoz1uXb",
    "outputId": "94cd0a0e-c1f3-478d-e225-2c7cc8ce1d4e"
   },
   "outputs": [
    {
     "data": {
      "image/png": "[encoded data removed]",
      "text/plain": [
       "<Figure size 960x560 with 1 Axes>"
      ]
     },
     "metadata": {},
     "output_type": "display_data"
    }
   ],
   "source": [
    "fig, ax = plt.subplots(figsize=(12, 7))\n",
    "sns.stripplot(data = df_train\n",
    "              , x = \"vendor_id\"\n",
    "              , y = \"trip_duration\"\n",
    "              , ax = ax)\n",
    "ax.set_title(\"Vendor Id vs. Trip duration\");"
   ]
  },
  {
   "cell_type": "markdown",
   "metadata": {
    "id": "PimvtQxacoPR"
   },
   "source": [
    "Podemos ver que la mayoría de viajes del vendedor 1 están en su mayoría por debajo de 10.000 segundos (aprox. 2.7 horas), a diferencia del vendendor 2 donde hay muchos registros donde se supera este límite de tiempo."
   ]
  },
  {
   "cell_type": "markdown",
   "metadata": {
    "id": "ieCz7in0-n0t"
   },
   "source": [
    "### **Month**"
   ]
  },
  {
   "cell_type": "markdown",
   "metadata": {
    "id": "Ty20kuLqc7i0"
   },
   "source": [
    "**CHECK POINT #2**\n",
    "> Cómo se vería un gráfico de dispersión de la duración del viaje en los diferentes meses del año?\n",
    "\n"
   ]
  },
  {
   "cell_type": "code",
   "execution_count": 26,
   "metadata": {
    "colab": {
     "base_uri": "https://localhost:8080/",
     "height": 474
    },
    "executionInfo": {
     "elapsed": 16742,
     "status": "ok",
     "timestamp": 1634152910417,
     "user": {
      "displayName": "heydy carrasco huaccha",
      "photoUrl": "https://lh3.googleusercontent.com/a-/AOh14GiGyezGgm9Px4LBw_sc7MFWfjUVhWWsvnAz1Ttg=s64",
      "userId": "00007591481982700116"
     },
     "user_tz": 300
    },
    "id": "LoDipa5U93pe",
    "outputId": "913f33f6-f108-40d0-cf0e-4e14aaba7bf7"
   },
   "outputs": [
    {
     "data": {
      "image/png": "[encoded data removed]",
      "text/plain": [
       "<Figure size 960x560 with 1 Axes>"
      ]
     },
     "metadata": {},
     "output_type": "display_data"
    }
   ],
   "source": [
    "fig, ax = plt.subplots(figsize=(12, 7))\n",
    "sns.stripplot(data = df_train\n",
    "              , x = \"month\"\n",
    "              , y = \"trip_duration\"\n",
    "              , ax = ax)\n",
    "ax.set_title(\"month vs. Trip duration\");"
   ]
  },
  {
   "cell_type": "code",
   "execution_count": 27,
   "metadata": {
    "colab": {
     "base_uri": "https://localhost:8080/",
     "height": 299
    },
    "executionInfo": {
     "elapsed": 5,
     "status": "ok",
     "timestamp": 1634152910418,
     "user": {
      "displayName": "heydy carrasco huaccha",
      "photoUrl": "https://lh3.googleusercontent.com/a-/AOh14GiGyezGgm9Px4LBw_sc7MFWfjUVhWWsvnAz1Ttg=s64",
      "userId": "00007591481982700116"
     },
     "user_tz": 300
    },
    "id": "bvCtdswH93cN",
    "outputId": "27caf4d9-0762-4033-8925-a47e1aaec5cc"
   },
   "outputs": [
    {
     "data": {
      "text/html": [
       "<div>\n",
       "<style scoped>\n",
       "    .dataframe tbody tr th:only-of-type {\n",
       "        vertical-align: middle;\n",
       "    }\n",
       "\n",
       "    .dataframe tbody tr th {\n",
       "        vertical-align: top;\n",
       "    }\n",
       "\n",
       "    .dataframe thead tr th {\n",
       "        text-align: left;\n",
       "    }\n",
       "\n",
       "    .dataframe thead tr:last-of-type th {\n",
       "        text-align: right;\n",
       "    }\n",
       "</style>\n",
       "<table border=\"1\" class=\"dataframe\">\n",
       "  <thead>\n",
       "    <tr>\n",
       "      <th></th>\n",
       "      <th colspan=\"2\" halign=\"left\">trip_duration</th>\n",
       "    </tr>\n",
       "    <tr>\n",
       "      <th></th>\n",
       "      <th>mean</th>\n",
       "      <th>count</th>\n",
       "    </tr>\n",
       "    <tr>\n",
       "      <th>month</th>\n",
       "      <th></th>\n",
       "      <th></th>\n",
       "    </tr>\n",
       "  </thead>\n",
       "  <tbody>\n",
       "    <tr>\n",
       "      <th>1</th>\n",
       "      <td>904.23918</td>\n",
       "      <td>229705</td>\n",
       "    </tr>\n",
       "    <tr>\n",
       "      <th>2</th>\n",
       "      <td>897.43950</td>\n",
       "      <td>238298</td>\n",
       "    </tr>\n",
       "    <tr>\n",
       "      <th>3</th>\n",
       "      <td>937.36536</td>\n",
       "      <td>256189</td>\n",
       "    </tr>\n",
       "    <tr>\n",
       "      <th>4</th>\n",
       "      <td>962.89146</td>\n",
       "      <td>251645</td>\n",
       "    </tr>\n",
       "    <tr>\n",
       "      <th>5</th>\n",
       "      <td>999.45055</td>\n",
       "      <td>248487</td>\n",
       "    </tr>\n",
       "    <tr>\n",
       "      <th>6</th>\n",
       "      <td>1013.36723</td>\n",
       "      <td>234316</td>\n",
       "    </tr>\n",
       "  </tbody>\n",
       "</table>\n",
       "</div>"
      ],
      "text/plain": [
       "      trip_duration        \n",
       "               mean   count\n",
       "month                      \n",
       "1         904.23918  229705\n",
       "2         897.43950  238298\n",
       "3         937.36536  256189\n",
       "4         962.89146  251645\n",
       "5         999.45055  248487\n",
       "6        1013.36723  234316"
      ]
     },
     "execution_count": 27,
     "metadata": {},
     "output_type": "execute_result"
    }
   ],
   "source": [
    "df_train[['month', 'trip_duration']].groupby(by=['month']).agg({'trip_duration':['mean', 'count']})"
   ]
  },
  {
   "cell_type": "markdown",
   "metadata": {
    "id": "4wlbZDlidm8B"
   },
   "source": [
    "En el resultado, podemos ver que alrededor de 230.000 - 240.0000 viajes se hacen por mes y la duración promedio está entre 900 y 1000 segundos (aprox. 15 - 16 min)."
   ]
  },
  {
   "cell_type": "markdown",
   "metadata": {
    "id": "tBAKP6DFdvSF"
   },
   "source": [
    "### Hour"
   ]
  },
  {
   "cell_type": "code",
   "execution_count": 28,
   "metadata": {
    "colab": {
     "base_uri": "https://localhost:8080/",
     "height": 475
    },
    "executionInfo": {
     "elapsed": 531,
     "status": "ok",
     "timestamp": 1634152910946,
     "user": {
      "displayName": "heydy carrasco huaccha",
      "photoUrl": "https://lh3.googleusercontent.com/a-/AOh14GiGyezGgm9Px4LBw_sc7MFWfjUVhWWsvnAz1Ttg=s64",
      "userId": "00007591481982700116"
     },
     "user_tz": 300
    },
    "id": "iuBcSHDh-Eb3",
    "outputId": "4b0cb2a7-0cb9-4ae6-c7e4-278c3606671a"
   },
   "outputs": [
    {
     "data": {
      "image/png": "[encoded data removed]",
      "text/plain": [
       "<Figure size 960x560 with 1 Axes>"
      ]
     },
     "metadata": {},
     "output_type": "display_data"
    }
   ],
   "source": [
    "hour_trip = df_train[['hour', 'trip_duration']].groupby(by=['hour']).agg({'trip_duration': 'count'}).reset_index()\n",
    "\n",
    "fig, ax = plt.subplots(figsize=(12, 7))\n",
    "sns.barplot(data = hour_trip\n",
    "              , x = \"hour\"\n",
    "              , y = \"trip_duration\"\n",
    "              , ax = ax)\n",
    "ax.set_title(\"Trips by hour\")\n",
    "ax.set_xlabel(\"Hour\")\n",
    "ax.set_ylabel(\"Trips\");"
   ]
  },
  {
   "cell_type": "markdown",
   "metadata": {
    "id": "MdD5OyiietwZ"
   },
   "source": [
    "Era de esperarse que los horarios con mayor cantidad de viajes sean al finalizar la jornada laboral (6-7pm). Sin embargo, también podemos revisar el promedio de duración de los viajes dependiendo de la hora en la que inició el servicio."
   ]
  },
  {
   "cell_type": "code",
   "execution_count": 29,
   "metadata": {
    "colab": {
     "base_uri": "https://localhost:8080/",
     "height": 485
    },
    "executionInfo": {
     "elapsed": 20849,
     "status": "ok",
     "timestamp": 1634152931793,
     "user": {
      "displayName": "heydy carrasco huaccha",
      "photoUrl": "https://lh3.googleusercontent.com/a-/AOh14GiGyezGgm9Px4LBw_sc7MFWfjUVhWWsvnAz1Ttg=s64",
      "userId": "00007591481982700116"
     },
     "user_tz": 300
    },
    "id": "25cNKMNn-EYo",
    "outputId": "50a41213-f929-47cf-a92c-54a28be3d669"
   },
   "outputs": [
    {
     "data": {
      "image/png": "[encoded data removed]",
      "text/plain": [
       "<Figure size 960x560 with 1 Axes>"
      ]
     },
     "metadata": {},
     "output_type": "display_data"
    }
   ],
   "source": [
    "fig, ax = plt.subplots(figsize=(12, 7))\n",
    "sns.barplot(data = df_train\n",
    "              , x = \"hour\"\n",
    "              , y = \"trip_duration\"\n",
    "              , ax = ax)\n",
    "ax.set_title(\"Avg Trip Duration by hour\")\n",
    "ax.set_xlabel(\"Hour\")\n",
    "ax.set_ylabel(\"Avg Trip Duration\");"
   ]
  },
  {
   "cell_type": "markdown",
   "metadata": {
    "id": "WvGFjnxAfQId"
   },
   "source": [
    "Analizando la gráfica podemos ver que el tiempo promedio de viaje varía de acuerdo a la hora de inicio del viaje lo que quiere decir que la hora puede ser una variable interesante para predecir el tiempo de duración del viaje."
   ]
  },
  {
   "cell_type": "markdown",
   "metadata": {
    "id": "U6u27tmWgob6"
   },
   "source": [
    "### Weekday"
   ]
  },
  {
   "cell_type": "code",
   "execution_count": 30,
   "metadata": {
    "colab": {
     "base_uri": "https://localhost:8080/",
     "height": 473
    },
    "executionInfo": {
     "elapsed": 844,
     "status": "ok",
     "timestamp": 1634152932635,
     "user": {
      "displayName": "heydy carrasco huaccha",
      "photoUrl": "https://lh3.googleusercontent.com/a-/AOh14GiGyezGgm9Px4LBw_sc7MFWfjUVhWWsvnAz1Ttg=s64",
      "userId": "00007591481982700116"
     },
     "user_tz": 300
    },
    "id": "0daz6Uaz-EV3",
    "outputId": "05e1c833-1edf-4474-8e9c-1f1cabdfcc68"
   },
   "outputs": [
    {
     "data": {
      "image/png": "[encoded data removed]",
      "text/plain": [
       "<Figure size 960x560 with 1 Axes>"
      ]
     },
     "metadata": {},
     "output_type": "display_data"
    }
   ],
   "source": [
    "weekday_trip = df_train[['weekday', 'trip_duration']].groupby(\n",
    "                        by=['weekday']).agg({'trip_duration': 'count'}).reset_index()\n",
    "\n",
    "fig, ax = plt.subplots(figsize=(12, 7))\n",
    "sns.lineplot(data = weekday_trip\n",
    "              , x = \"weekday\"\n",
    "              , y = \"trip_duration\"\n",
    "              , ax = ax\n",
    "              , markers = True\n",
    "                )\n",
    "ax.set_title(\"Trips by weekday\")\n",
    "ax.set_xlabel(\"weekday\")\n",
    "ax.set_ylabel(\"Trips\");"
   ]
  },
  {
   "cell_type": "markdown",
   "metadata": {
    "id": "C2Wq2dz8hGxq"
   },
   "source": [
    "Podemos concluir que los días con mayor cantidad de viajes en taxi son los días cercanos al fin de semana, más específicamente entre jueves y sábado."
   ]
  },
  {
   "cell_type": "markdown",
   "metadata": {
    "id": "zQubnILChwFv"
   },
   "source": [
    "**CHECK POINT #3**\n",
    "> Grafica un barplot teniendo en cuenta el día de la semana (weekday) y el promedio de la duración del viaje (trip_duration).¿Qué puedes concluir del resultado? ¿Crees que esta variable es relevante para el modelo predictivo?"
   ]
  },
  {
   "cell_type": "code",
   "execution_count": 31,
   "metadata": {
    "colab": {
     "base_uri": "https://localhost:8080/",
     "height": 475
    },
    "executionInfo": {
     "elapsed": 468,
     "status": "ok",
     "timestamp": 1634152933101,
     "user": {
      "displayName": "heydy carrasco huaccha",
      "photoUrl": "https://lh3.googleusercontent.com/a-/AOh14GiGyezGgm9Px4LBw_sc7MFWfjUVhWWsvnAz1Ttg=s64",
      "userId": "00007591481982700116"
     },
     "user_tz": 300
    },
    "id": "o2mbYcSP_p9p",
    "outputId": "a4dbd640-30a9-4021-ba4e-a5f985859f82"
   },
   "outputs": [
    {
     "data": {
      "image/png": "[encoded data removed]",
      "text/plain": [
       "<Figure size 960x560 with 1 Axes>"
      ]
     },
     "metadata": {},
     "output_type": "display_data"
    }
   ],
   "source": [
    "fig, ax = plt.subplots(figsize=(12, 7))\n",
    "sns.barplot(data = weekday_trip\n",
    "              , x = \"weekday\"\n",
    "              , y = \"trip_duration\"\n",
    "              , ax = ax)\n",
    "ax.set_title(\"Trips by weekday\")\n",
    "ax.set_xlabel(\"weekday\")\n",
    "ax.set_ylabel(\"Trips\");"
   ]
  },
  {
   "cell_type": "markdown",
   "metadata": {
    "id": "4CuJURTiB1ve"
   },
   "source": [
    "### **Passengers**"
   ]
  },
  {
   "cell_type": "code",
   "execution_count": 32,
   "metadata": {
    "colab": {
     "base_uri": "https://localhost:8080/",
     "height": 425
    },
    "executionInfo": {
     "elapsed": 4,
     "status": "ok",
     "timestamp": 1634152933101,
     "user": {
      "displayName": "heydy carrasco huaccha",
      "photoUrl": "https://lh3.googleusercontent.com/a-/AOh14GiGyezGgm9Px4LBw_sc7MFWfjUVhWWsvnAz1Ttg=s64",
      "userId": "00007591481982700116"
     },
     "user_tz": 300
    },
    "id": "DlOe51BWBCTM",
    "outputId": "be5b39a9-f122-4805-b2b6-b9c859aaab88"
   },
   "outputs": [
    {
     "data": {
      "text/html": [
       "<div>\n",
       "<style scoped>\n",
       "    .dataframe tbody tr th:only-of-type {\n",
       "        vertical-align: middle;\n",
       "    }\n",
       "\n",
       "    .dataframe tbody tr th {\n",
       "        vertical-align: top;\n",
       "    }\n",
       "\n",
       "    .dataframe thead tr th {\n",
       "        text-align: left;\n",
       "    }\n",
       "\n",
       "    .dataframe thead tr:last-of-type th {\n",
       "        text-align: right;\n",
       "    }\n",
       "</style>\n",
       "<table border=\"1\" class=\"dataframe\">\n",
       "  <thead>\n",
       "    <tr>\n",
       "      <th></th>\n",
       "      <th colspan=\"4\" halign=\"left\">trip_duration</th>\n",
       "    </tr>\n",
       "    <tr>\n",
       "      <th></th>\n",
       "      <th>count</th>\n",
       "      <th>min</th>\n",
       "      <th>max</th>\n",
       "      <th>mean</th>\n",
       "    </tr>\n",
       "    <tr>\n",
       "      <th>passenger_count</th>\n",
       "      <th></th>\n",
       "      <th></th>\n",
       "      <th></th>\n",
       "      <th></th>\n",
       "    </tr>\n",
       "  </thead>\n",
       "  <tbody>\n",
       "    <tr>\n",
       "      <th>0</th>\n",
       "      <td>60</td>\n",
       "      <td>1</td>\n",
       "      <td>85901</td>\n",
       "      <td>1718.43333</td>\n",
       "    </tr>\n",
       "    <tr>\n",
       "      <th>1</th>\n",
       "      <td>1033537</td>\n",
       "      <td>1</td>\n",
       "      <td>86391</td>\n",
       "      <td>922.95847</td>\n",
       "    </tr>\n",
       "    <tr>\n",
       "      <th>2</th>\n",
       "      <td>210317</td>\n",
       "      <td>1</td>\n",
       "      <td>86392</td>\n",
       "      <td>995.71793</td>\n",
       "    </tr>\n",
       "    <tr>\n",
       "      <th>3</th>\n",
       "      <td>59896</td>\n",
       "      <td>2</td>\n",
       "      <td>86365</td>\n",
       "      <td>1028.23628</td>\n",
       "    </tr>\n",
       "    <tr>\n",
       "      <th>4</th>\n",
       "      <td>28404</td>\n",
       "      <td>2</td>\n",
       "      <td>86379</td>\n",
       "      <td>1053.52975</td>\n",
       "    </tr>\n",
       "    <tr>\n",
       "      <th>5</th>\n",
       "      <td>78088</td>\n",
       "      <td>2</td>\n",
       "      <td>86378</td>\n",
       "      <td>1070.23217</td>\n",
       "    </tr>\n",
       "    <tr>\n",
       "      <th>6</th>\n",
       "      <td>48333</td>\n",
       "      <td>2</td>\n",
       "      <td>86377</td>\n",
       "      <td>1061.35522</td>\n",
       "    </tr>\n",
       "    <tr>\n",
       "      <th>7</th>\n",
       "      <td>3</td>\n",
       "      <td>15</td>\n",
       "      <td>25</td>\n",
       "      <td>19.66667</td>\n",
       "    </tr>\n",
       "    <tr>\n",
       "      <th>8</th>\n",
       "      <td>1</td>\n",
       "      <td>104</td>\n",
       "      <td>104</td>\n",
       "      <td>104.00000</td>\n",
       "    </tr>\n",
       "    <tr>\n",
       "      <th>9</th>\n",
       "      <td>1</td>\n",
       "      <td>560</td>\n",
       "      <td>560</td>\n",
       "      <td>560.00000</td>\n",
       "    </tr>\n",
       "  </tbody>\n",
       "</table>\n",
       "</div>"
      ],
      "text/plain": [
       "                trip_duration                       \n",
       "                        count  min    max       mean\n",
       "passenger_count                                     \n",
       "0                          60    1  85901 1718.43333\n",
       "1                     1033537    1  86391  922.95847\n",
       "2                      210317    1  86392  995.71793\n",
       "3                       59896    2  86365 1028.23628\n",
       "4                       28404    2  86379 1053.52975\n",
       "5                       78088    2  86378 1070.23217\n",
       "6                       48333    2  86377 1061.35522\n",
       "7                           3   15     25   19.66667\n",
       "8                           1  104    104  104.00000\n",
       "9                           1  560    560  560.00000"
      ]
     },
     "execution_count": 32,
     "metadata": {},
     "output_type": "execute_result"
    }
   ],
   "source": [
    "passengers_trip = df_train[['passenger_count',\n",
    "                            'trip_duration']].groupby(\n",
    "                                by=['passenger_count']).agg(\n",
    "                                    {'trip_duration':['count','min','max',np.mean]})#.reset_index()\n",
    "passengers_trip"
   ]
  },
  {
   "cell_type": "markdown",
   "metadata": {
    "id": "QdSsQwhKiXFZ"
   },
   "source": [
    "De la tabla anterior podemos concluir:\n",
    "* Los viajes de 0 pasajeros tienen la duración media más alta de todos los grupos por cantidad de pasajeros.\n",
    "* La mayoria de los viajes los realiza una persona.\n",
    "* La duración media de los viajes son muy similares independientemente si va 1 o 6 personas."
   ]
  },
  {
   "cell_type": "markdown",
   "metadata": {
    "id": "pTjn1S4OFU9q"
   },
   "source": [
    "### Pickup and dropoff borough"
   ]
  },
  {
   "cell_type": "code",
   "execution_count": 33,
   "metadata": {
    "colab": {
     "base_uri": "https://localhost:8080/",
     "height": 236
    },
    "executionInfo": {
     "elapsed": 249,
     "status": "ok",
     "timestamp": 1634152933347,
     "user": {
      "displayName": "heydy carrasco huaccha",
      "photoUrl": "https://lh3.googleusercontent.com/a-/AOh14GiGyezGgm9Px4LBw_sc7MFWfjUVhWWsvnAz1Ttg=s64",
      "userId": "00007591481982700116"
     },
     "user_tz": 300
    },
    "id": "rG5pD9vnBCQM",
    "outputId": "55d1df88-48b4-4e02-d59d-097cf44bc41d"
   },
   "outputs": [
    {
     "data": {
      "text/html": [
       "<div>\n",
       "<style scoped>\n",
       "    .dataframe tbody tr th:only-of-type {\n",
       "        vertical-align: middle;\n",
       "    }\n",
       "\n",
       "    .dataframe tbody tr th {\n",
       "        vertical-align: top;\n",
       "    }\n",
       "\n",
       "    .dataframe thead th {\n",
       "        text-align: right;\n",
       "    }\n",
       "</style>\n",
       "<table border=\"1\" class=\"dataframe\">\n",
       "  <thead>\n",
       "    <tr style=\"text-align: right;\">\n",
       "      <th>dropoff_borough</th>\n",
       "      <th>Bronx</th>\n",
       "      <th>Brooklyn</th>\n",
       "      <th>Manhattan</th>\n",
       "      <th>Queens</th>\n",
       "      <th>Staten_island</th>\n",
       "    </tr>\n",
       "    <tr>\n",
       "      <th>pickup_borough</th>\n",
       "      <th></th>\n",
       "      <th></th>\n",
       "      <th></th>\n",
       "      <th></th>\n",
       "      <th></th>\n",
       "    </tr>\n",
       "  </thead>\n",
       "  <tbody>\n",
       "    <tr>\n",
       "      <th>Bronx</th>\n",
       "      <td>793.20118</td>\n",
       "      <td>2257.80000</td>\n",
       "      <td>1491.17901</td>\n",
       "      <td>1349.42857</td>\n",
       "      <td>3628.40000</td>\n",
       "    </tr>\n",
       "    <tr>\n",
       "      <th>Brooklyn</th>\n",
       "      <td>2554.01218</td>\n",
       "      <td>762.58988</td>\n",
       "      <td>1104.32059</td>\n",
       "      <td>2103.19124</td>\n",
       "      <td>3033.34688</td>\n",
       "    </tr>\n",
       "    <tr>\n",
       "      <th>Manhattan</th>\n",
       "      <td>1676.25281</td>\n",
       "      <td>1173.13474</td>\n",
       "      <td>750.06705</td>\n",
       "      <td>1899.63377</td>\n",
       "      <td>2954.35378</td>\n",
       "    </tr>\n",
       "    <tr>\n",
       "      <th>Queens</th>\n",
       "      <td>1692.97097</td>\n",
       "      <td>2126.34177</td>\n",
       "      <td>2065.53434</td>\n",
       "      <td>908.81212</td>\n",
       "      <td>1604.67465</td>\n",
       "    </tr>\n",
       "    <tr>\n",
       "      <th>Staten_island</th>\n",
       "      <td>2531.93363</td>\n",
       "      <td>2650.97031</td>\n",
       "      <td>3043.28411</td>\n",
       "      <td>1526.62546</td>\n",
       "      <td>813.44935</td>\n",
       "    </tr>\n",
       "  </tbody>\n",
       "</table>\n",
       "</div>"
      ],
      "text/plain": [
       "dropoff_borough      Bronx   Brooklyn  Manhattan     Queens  Staten_island\n",
       "pickup_borough                                                            \n",
       "Bronx            793.20118 2257.80000 1491.17901 1349.42857     3628.40000\n",
       "Brooklyn        2554.01218  762.58988 1104.32059 2103.19124     3033.34688\n",
       "Manhattan       1676.25281 1173.13474  750.06705 1899.63377     2954.35378\n",
       "Queens          1692.97097 2126.34177 2065.53434  908.81212     1604.67465\n",
       "Staten_island   2531.93363 2650.97031 3043.28411 1526.62546      813.44935"
      ]
     },
     "execution_count": 33,
     "metadata": {},
     "output_type": "execute_result"
    }
   ],
   "source": [
    "pivot_table = pd.pivot_table(df_train, \n",
    "                            values='trip_duration', \n",
    "                            index=['pickup_borough'], # Barrio de Inicio\n",
    "                            columns=['dropoff_borough'], # Barrio de Fin\n",
    "                            aggfunc=np.mean)\n",
    "pivot_table"
   ]
  },
  {
   "cell_type": "markdown",
   "metadata": {
    "id": "xApoASxtFtTa"
   },
   "source": [
    "Dado que en la tabla dinámica estamos comparando la misma métrica de promedio de duración del viaje entre diferentes destinos, podemos usar la gráfica de `heatmap` de `seaborn` para hacer la tabla más amigable con el usuario y de esta forma se pueden sacar conclusiones más rápidas."
   ]
  },
  {
   "cell_type": "code",
   "execution_count": 36,
   "metadata": {
    "colab": {
     "base_uri": "https://localhost:8080/",
     "height": 372
    },
    "executionInfo": {
     "elapsed": 938,
     "status": "ok",
     "timestamp": 1634152961784,
     "user": {
      "displayName": "heydy carrasco huaccha",
      "photoUrl": "https://lh3.googleusercontent.com/a-/AOh14GiGyezGgm9Px4LBw_sc7MFWfjUVhWWsvnAz1Ttg=s64",
      "userId": "00007591481982700116"
     },
     "user_tz": 300
    },
    "id": "v5VFMERhBCIE",
    "outputId": "e9e7ec49-bff3-4528-e98c-d67ee3c3fed9"
   },
   "outputs": [
    {
     "data": {
      "image/png": "[encoded data removed]",
      "text/plain": [
       "<Figure size 2000x800 with 2 Axes>"
      ]
     },
     "metadata": {},
     "output_type": "display_data"
    }
   ],
   "source": [
    "plt.subplots(figsize=(25, 10))\n",
    "sns.heatmap(pivot_table,annot = True,fmt='.1g');"
   ]
  },
  {
   "cell_type": "markdown",
   "metadata": {
    "id": "eCmy1TCzHHqX"
   },
   "source": [
    "Podemos concluir que la combinación de locación inicial y locación final son determinantes para predecir la duración del viaje, por lo tanto, son variables que definitivamente deben estar incluidas en el modelo de predicción."
   ]
  },
  {
   "cell_type": "markdown",
   "metadata": {
    "id": "vf_Da9-IIIOi"
   },
   "source": [
    "## Referencias\n"
   ]
  },
  {
   "cell_type": "markdown",
   "metadata": {
    "id": "VoMdKPcLILKK"
   },
   "source": [
    "Aquí podrás encontrar los links de la documentación de las librerías que usamos durante el workshop.\n",
    "* [`pandas`](https://pandas.pydata.org/docs/reference/api/pandas.DataFrame.agg.html)\n",
    "* [`seaborn`](https://seaborn.pydata.org/)\n",
    "* [`matplotlib`](https://matplotlib.org/)\n",
    "\n",
    "Adicionalmente, te recomendamos leer el libro Python Data Science Handbook de Jake VanderPlas, donde podrás encontrar muy buen contenido sobre manejo de datos a través de `numpy` y `pandas`, visualización con `matplotlib` y desarrollo de modelos de machine learning con `scikit-learn`."
   ]
  }
 ],
 "metadata": {
  "colab": {
   "authorship_tag": "ABX9TyMFWmQxuUUJy4bhsUN5FWWR",
   "collapsed_sections": [
    "H6YukDfd6u7B"
   ],
   "name": "notebook_training.ipynb",
   "provenance": [],
   "toc_visible": true
  },
  "kernelspec": {
   "display_name": "Python 3",
   "language": "python",
   "name": "python3"
  },
  "language_info": {
   "codemirror_mode": {
    "name": "ipython",
    "version": 3
   },
   "file_extension": ".py",
   "mimetype": "text/x-python",
   "name": "python",
   "nbconvert_exporter": "python",
   "pygments_lexer": "ipython3",
   "version": "3.8.8"
  }
 },
 "nbformat": 4,
 "nbformat_minor": 1
}
