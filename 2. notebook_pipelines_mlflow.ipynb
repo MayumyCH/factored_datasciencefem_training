{
 "cells": [
  {
   "cell_type": "markdown",
   "id": "b78329da",
   "metadata": {},
   "source": [
    "# Factored Workshops! 🚀\n",
    "_Crearás un modelo capaz de predecir la duración total de un viaje de taxi en Nueva York 🗽_"
   ]
  },
  {
   "cell_type": "markdown",
   "id": "05b2c90a",
   "metadata": {},
   "source": [
    "# Pipelines en scikit-learn"
   ]
  },
  {
   "cell_type": "markdown",
   "id": "a66880dc",
   "metadata": {},
   "source": [
    "El objetivo de esta sección es mostrar cómo se pueden desarrollar flujos de preprocesamiento en sklearn. Vamos a explorar las diferentes operaciones que se le pueden hacer a los diferentes tipos de variables y cómo agrupar todas las operaciones en un solo elemento de sklearn que tenga los métodos .fit() y .transform()."
   ]
  },
  {
   "cell_type": "code",
   "execution_count": 57,
   "id": "979d561f",
   "metadata": {},
   "outputs": [],
   "source": [
    "import numpy as np\n",
    "import pandas as pd\n",
    "\n",
    "from typing import List\n",
    "from sklearn import set_config\n",
    "set_config(display='diagram')"
   ]
  },
  {
   "cell_type": "code",
   "execution_count": 58,
   "id": "9c3774fd",
   "metadata": {},
   "outputs": [
    {
     "data": {
      "text/plain": [
       "(1458644, 13)"
      ]
     },
     "execution_count": 58,
     "metadata": {},
     "output_type": "execute_result"
    }
   ],
   "source": [
    "data = pd.read_csv(\n",
    "    \"https://factored-workshops.s3.amazonaws.com/taxi-trip-duration.csv\"\n",
    ")\n",
    "\n",
    "data.shape"
   ]
  },
  {
   "cell_type": "code",
   "execution_count": 59,
   "id": "a49e862a",
   "metadata": {},
   "outputs": [
    {
     "data": {
      "text/plain": [
       "(1447855, 13)"
      ]
     },
     "execution_count": 59,
     "metadata": {},
     "output_type": "execute_result"
    }
   ],
   "source": [
    "# Limitar rango de datos\n",
    "tiempo_minimo = 60 # 1 minuto\n",
    "tiempo_maximo = 36000 # 10 horas\n",
    "\n",
    "data = data[\n",
    "    (data[\"trip_duration\"] > tiempo_minimo) &\n",
    "    (data[\"trip_duration\"] < tiempo_maximo)\n",
    "]\n",
    "data.shape"
   ]
  },
  {
   "cell_type": "code",
   "execution_count": 60,
   "id": "9119c394",
   "metadata": {},
   "outputs": [
    {
     "data": {
      "text/html": [
       "<div>\n",
       "<style scoped>\n",
       "    .dataframe tbody tr th:only-of-type {\n",
       "        vertical-align: middle;\n",
       "    }\n",
       "\n",
       "    .dataframe tbody tr th {\n",
       "        vertical-align: top;\n",
       "    }\n",
       "\n",
       "    .dataframe thead th {\n",
       "        text-align: right;\n",
       "    }\n",
       "</style>\n",
       "<table border=\"1\" class=\"dataframe\">\n",
       "  <thead>\n",
       "    <tr style=\"text-align: right;\">\n",
       "      <th></th>\n",
       "      <th>id</th>\n",
       "      <th>vendor_id</th>\n",
       "      <th>pickup_datetime</th>\n",
       "      <th>dropoff_datetime</th>\n",
       "      <th>passenger_count</th>\n",
       "      <th>pickup_longitude</th>\n",
       "      <th>pickup_latitude</th>\n",
       "      <th>dropoff_longitude</th>\n",
       "      <th>dropoff_latitude</th>\n",
       "      <th>store_and_fwd_flag</th>\n",
       "      <th>trip_duration</th>\n",
       "      <th>pickup_borough</th>\n",
       "      <th>dropoff_borough</th>\n",
       "    </tr>\n",
       "  </thead>\n",
       "  <tbody>\n",
       "    <tr>\n",
       "      <th>0</th>\n",
       "      <td>id2875421</td>\n",
       "      <td>2</td>\n",
       "      <td>2016-03-14 17:24:55</td>\n",
       "      <td>2016-03-14 17:32:30</td>\n",
       "      <td>1</td>\n",
       "      <td>-73.982155</td>\n",
       "      <td>40.767937</td>\n",
       "      <td>-73.964630</td>\n",
       "      <td>40.765602</td>\n",
       "      <td>N</td>\n",
       "      <td>455</td>\n",
       "      <td>Manhattan</td>\n",
       "      <td>Manhattan</td>\n",
       "    </tr>\n",
       "    <tr>\n",
       "      <th>1</th>\n",
       "      <td>id2377394</td>\n",
       "      <td>1</td>\n",
       "      <td>2016-06-12 00:43:35</td>\n",
       "      <td>2016-06-12 00:54:38</td>\n",
       "      <td>1</td>\n",
       "      <td>-73.980415</td>\n",
       "      <td>40.738564</td>\n",
       "      <td>-73.999481</td>\n",
       "      <td>40.731152</td>\n",
       "      <td>N</td>\n",
       "      <td>663</td>\n",
       "      <td>Manhattan</td>\n",
       "      <td>Brooklyn</td>\n",
       "    </tr>\n",
       "    <tr>\n",
       "      <th>2</th>\n",
       "      <td>id3858529</td>\n",
       "      <td>2</td>\n",
       "      <td>2016-01-19 11:35:24</td>\n",
       "      <td>2016-01-19 12:10:48</td>\n",
       "      <td>1</td>\n",
       "      <td>-73.979027</td>\n",
       "      <td>40.763939</td>\n",
       "      <td>-74.005333</td>\n",
       "      <td>40.710087</td>\n",
       "      <td>N</td>\n",
       "      <td>2124</td>\n",
       "      <td>Manhattan</td>\n",
       "      <td>Brooklyn</td>\n",
       "    </tr>\n",
       "  </tbody>\n",
       "</table>\n",
       "</div>"
      ],
      "text/plain": [
       "          id  vendor_id      pickup_datetime     dropoff_datetime  \\\n",
       "0  id2875421          2  2016-03-14 17:24:55  2016-03-14 17:32:30   \n",
       "1  id2377394          1  2016-06-12 00:43:35  2016-06-12 00:54:38   \n",
       "2  id3858529          2  2016-01-19 11:35:24  2016-01-19 12:10:48   \n",
       "\n",
       "   passenger_count  pickup_longitude  pickup_latitude  dropoff_longitude  \\\n",
       "0                1        -73.982155        40.767937         -73.964630   \n",
       "1                1        -73.980415        40.738564         -73.999481   \n",
       "2                1        -73.979027        40.763939         -74.005333   \n",
       "\n",
       "   dropoff_latitude store_and_fwd_flag  trip_duration pickup_borough  \\\n",
       "0         40.765602                  N            455      Manhattan   \n",
       "1         40.731152                  N            663      Manhattan   \n",
       "2         40.710087                  N           2124      Manhattan   \n",
       "\n",
       "  dropoff_borough  \n",
       "0       Manhattan  \n",
       "1        Brooklyn  \n",
       "2        Brooklyn  "
      ]
     },
     "execution_count": 60,
     "metadata": {},
     "output_type": "execute_result"
    }
   ],
   "source": [
    "data.head(3)"
   ]
  },
  {
   "cell_type": "markdown",
   "id": "6ceb1003",
   "metadata": {},
   "source": [
    "Es importante siempre separar la variable dependiente—en este caso **trip_duration** del dataframe que vamos a usar para crear las variables independientes."
   ]
  },
  {
   "cell_type": "code",
   "execution_count": 61,
   "id": "3ee3a2bb",
   "metadata": {},
   "outputs": [],
   "source": [
    "y = data[\"trip_duration\"]\n",
    "x = data.drop(\n",
    "    [\"id\", \"trip_duration\", \"dropoff_datetime\", \"store_and_fwd_flag\"],\n",
    "    axis=\"columns\"\n",
    ")\n",
    "\n",
    "# Quitamos:\n",
    "# id -> Es un identificador unico y este no brinda nada de informacion\n",
    "# trip_duration -> Variable a predecir\n",
    "# dropoff_datetime -> Se elimina pq para nuevos datos no se tendra este dato\n",
    "# store_and_fwd_flag -> Variable bandera de si almacenar o no el viaje"
   ]
  },
  {
   "cell_type": "markdown",
   "id": "48ae0b40",
   "metadata": {},
   "source": [
    "## División de los datos"
   ]
  },
  {
   "cell_type": "code",
   "execution_count": 62,
   "id": "28dfa472",
   "metadata": {},
   "outputs": [],
   "source": [
    "from sklearn.model_selection import train_test_split\n",
    "\n",
    "x_train, x_test, y_train, y_test = train_test_split(x, \n",
    "                                                    y, \n",
    "                                                    random_state=0)\n",
    "# test_size=0.25 -- default"
   ]
  },
  {
   "cell_type": "code",
   "execution_count": 63,
   "id": "27dc4340",
   "metadata": {},
   "outputs": [],
   "source": [
    "# help(train_test_split)"
   ]
  },
  {
   "cell_type": "markdown",
   "id": "616a2697",
   "metadata": {},
   "source": [
    "## Transformers"
   ]
  },
  {
   "cell_type": "markdown",
   "id": "3effaffb",
   "metadata": {},
   "source": [
    "`scikit-learn` incluye una gran [lista](https://scikit-learn.org/stable/data_transforms.html) de transformers que nos **permiten limpiar y transformar datos** dependiendo de nuestro objetivo. Sin importar el tipo de transformacion que apliquen, todos los transformers siguen la convención de tener por lo menos dos métodos:\n",
    "\n",
    "- `.fit()` calcula los parámetros necesarios para realizar la transformación a partir de unos datos de entrada. Este método se ejecuta **únicamente en los datos de entrenamiento** para asegurarnos que los parámetros no contienen información de los datos de validación.\n",
    "- `.transform()` aplica la transformación a los datos.\n",
    "\n",
    "Veamos un ejemplo usando `StandardScaler`, un transformer que nos permite **remover la media y escalar** los datos para que **tengan varianza de 1**. Vamos a usarlo para normalizar los coordenadas de inicio del viaje."
   ]
  },
  {
   "cell_type": "code",
   "execution_count": 64,
   "id": "d4b9ca43",
   "metadata": {},
   "outputs": [
    {
     "name": "stdout",
     "output_type": "stream",
     "text": [
      "[[-0.30923835 -0.27478234]\n",
      " [-0.13589444  0.75675283]\n",
      " [ 0.24599071  0.58169127]\n",
      " ...\n",
      " [-0.19727957 -0.13002453]\n",
      " [-0.03955223 -0.08161096]\n",
      " [-0.11150857 -0.79791458]]\n"
     ]
    }
   ],
   "source": [
    "from sklearn.preprocessing import StandardScaler\n",
    "\n",
    "transformer = StandardScaler()\n",
    "transformer.fit(\n",
    "    x_train[[\"pickup_longitude\", \"pickup_latitude\"]]\n",
    ")\n",
    "normed_array = transformer.transform(\n",
    "    x_test[[\"pickup_longitude\", \"pickup_latitude\"]]\n",
    ")\n",
    "print(normed_array)"
   ]
  },
  {
   "cell_type": "markdown",
   "id": "e01b428a",
   "metadata": {},
   "source": [
    "## Custom Transformers"
   ]
  },
  {
   "cell_type": "markdown",
   "id": "471c2606",
   "metadata": {},
   "source": [
    "A pesar de que scikit-learn ofrece varias operaciones para transformar datos, frecuentemente necesitamos crear transformaciones que son específicas a nuestro proyecto. Para esto vamos a aprender cómo implementar custom transformers.\n",
    "\n",
    "Todos los transformer custom deben heredar `BaseEstimator` y `TransformerMixin` para que tengan todas las funciones necesarias para conectarse a otros objetos de sklearn. Por convención de sklearn, los objetos usados para transformar datos siempre deben tener los métodos `.fit()` y `.transform()`. Ambos métodos reciben X y y para que se integren sin problemas a pipelines de sklearn.\n",
    "\n",
    "- El método `.fit()` sirve para almacenar cantidades que vamos a usar durante la transformación de los datos y siempre debe retornar self. \n",
    "- El método `.transform()` ejecuta la transformación y retorna los datos transformados.\n",
    "\n",
    "Ahora vamos a replicar el StandardScaler pero esta vez escribiéndolo como un transformer personalizado que no retorne un array sino un DataFrame."
   ]
  },
  {
   "cell_type": "code",
   "execution_count": 65,
   "id": "2e6f4af8",
   "metadata": {},
   "outputs": [],
   "source": [
    "from sklearn.base import BaseEstimator, TransformerMixin\n",
    "\n",
    "class PrimerTransformer(BaseEstimator, TransformerMixin):\n",
    "    def fit(self, X, y=None):\n",
    "        self.mean = X.mean()\n",
    "        self.std = X.std()\n",
    "        return self\n",
    "\n",
    "    def transform(self, X, y=None):\n",
    "        return (X - self.mean) / self.std"
   ]
  },
  {
   "cell_type": "markdown",
   "id": "fee3f730",
   "metadata": {},
   "source": [
    "## Checkpoint #1"
   ]
  },
  {
   "cell_type": "code",
   "execution_count": 66,
   "id": "dbe2f5ce",
   "metadata": {},
   "outputs": [
    {
     "data": {
      "text/html": [
       "<div>\n",
       "<style scoped>\n",
       "    .dataframe tbody tr th:only-of-type {\n",
       "        vertical-align: middle;\n",
       "    }\n",
       "\n",
       "    .dataframe tbody tr th {\n",
       "        vertical-align: top;\n",
       "    }\n",
       "\n",
       "    .dataframe thead th {\n",
       "        text-align: right;\n",
       "    }\n",
       "</style>\n",
       "<table border=\"1\" class=\"dataframe\">\n",
       "  <thead>\n",
       "    <tr style=\"text-align: right;\">\n",
       "      <th></th>\n",
       "      <th>pickup_longitude</th>\n",
       "      <th>pickup_latitude</th>\n",
       "    </tr>\n",
       "  </thead>\n",
       "  <tbody>\n",
       "    <tr>\n",
       "      <th>5949</th>\n",
       "      <td>-0.309238</td>\n",
       "      <td>-0.274782</td>\n",
       "    </tr>\n",
       "    <tr>\n",
       "      <th>255492</th>\n",
       "      <td>-0.135894</td>\n",
       "      <td>0.756752</td>\n",
       "    </tr>\n",
       "    <tr>\n",
       "      <th>979171</th>\n",
       "      <td>0.245991</td>\n",
       "      <td>0.581691</td>\n",
       "    </tr>\n",
       "    <tr>\n",
       "      <th>121356</th>\n",
       "      <td>0.176797</td>\n",
       "      <td>0.385864</td>\n",
       "    </tr>\n",
       "    <tr>\n",
       "      <th>524382</th>\n",
       "      <td>0.194096</td>\n",
       "      <td>0.182913</td>\n",
       "    </tr>\n",
       "    <tr>\n",
       "      <th>...</th>\n",
       "      <td>...</td>\n",
       "      <td>...</td>\n",
       "    </tr>\n",
       "    <tr>\n",
       "      <th>885062</th>\n",
       "      <td>-0.488949</td>\n",
       "      <td>-0.292409</td>\n",
       "    </tr>\n",
       "    <tr>\n",
       "      <th>755237</th>\n",
       "      <td>-0.565470</td>\n",
       "      <td>-1.408094</td>\n",
       "    </tr>\n",
       "    <tr>\n",
       "      <th>790367</th>\n",
       "      <td>-0.197279</td>\n",
       "      <td>-0.130024</td>\n",
       "    </tr>\n",
       "    <tr>\n",
       "      <th>106875</th>\n",
       "      <td>-0.039552</td>\n",
       "      <td>-0.081611</td>\n",
       "    </tr>\n",
       "    <tr>\n",
       "      <th>260937</th>\n",
       "      <td>-0.111509</td>\n",
       "      <td>-0.797914</td>\n",
       "    </tr>\n",
       "  </tbody>\n",
       "</table>\n",
       "<p>361964 rows × 2 columns</p>\n",
       "</div>"
      ],
      "text/plain": [
       "        pickup_longitude  pickup_latitude\n",
       "5949           -0.309238        -0.274782\n",
       "255492         -0.135894         0.756752\n",
       "979171          0.245991         0.581691\n",
       "121356          0.176797         0.385864\n",
       "524382          0.194096         0.182913\n",
       "...                  ...              ...\n",
       "885062         -0.488949        -0.292409\n",
       "755237         -0.565470        -1.408094\n",
       "790367         -0.197279        -0.130024\n",
       "106875         -0.039552        -0.081611\n",
       "260937         -0.111509        -0.797914\n",
       "\n",
       "[361964 rows x 2 columns]"
      ]
     },
     "execution_count": 66,
     "metadata": {},
     "output_type": "execute_result"
    }
   ],
   "source": [
    "pt = PrimerTransformer()\n",
    "\n",
    "pt.fit(x_train[[\"pickup_longitude\", \"pickup_latitude\"]])\n",
    "pt.transform(x_test[[\"pickup_longitude\", \"pickup_latitude\"]])"
   ]
  },
  {
   "cell_type": "markdown",
   "id": "e9befa68",
   "metadata": {},
   "source": [
    "En este [link](https://scikit-learn.org/stable/developers/develop.html) pueden encontrar más detalles de qué papel juegan los métodos __init__, .fit() y .transform()"
   ]
  },
  {
   "cell_type": "markdown",
   "id": "11b5b992",
   "metadata": {},
   "source": [
    "## Transformer Fechas"
   ]
  },
  {
   "cell_type": "markdown",
   "id": "8c4a113f",
   "metadata": {},
   "source": [
    "Ahora que sabemos cómo construir objetos para transformar datos, vamos a **crear un transformer para crear variables como el día de la semana y la hora** del momento en el que empieza el servicio.\n",
    "Como vimos la semana pasada en nuestro EDA, esa información puede ser relevante para determinar la duración del viaje.\n",
    "\n",
    "En nuestra transformación no debemos almacenar ningún dato para hacer las transformación entonces dejamos el método .fit() vacío. En .transform() extraemos los datos de fecha que nos interesan y retornamos un dataframe con las nuevas variables."
   ]
  },
  {
   "cell_type": "code",
   "execution_count": 67,
   "id": "14ff982a",
   "metadata": {},
   "outputs": [],
   "source": [
    "class TransformerFechas(BaseEstimator, TransformerMixin):\n",
    "    def fit(self, X, y=None):\n",
    "        return self\n",
    "\n",
    "    def transform(self, X, y=None):\n",
    "        columna_fecha = pd.to_datetime(X[\"pickup_datetime\"])\n",
    "        fecha_df = pd.DataFrame()\n",
    "        # TODO: Crear columnas con dia de la semana y hora de recogida.\n",
    "        fecha_df['weekday'] = columna_fecha.dt.weekday\n",
    "        fecha_df['hour'] = columna_fecha.dt.hour\n",
    "        return fecha_df"
   ]
  },
  {
   "cell_type": "markdown",
   "id": "6757a2c3",
   "metadata": {},
   "source": [
    "## Checkpoint #2.1"
   ]
  },
  {
   "cell_type": "code",
   "execution_count": 68,
   "id": "09185b80",
   "metadata": {},
   "outputs": [
    {
     "data": {
      "text/html": [
       "<div>\n",
       "<style scoped>\n",
       "    .dataframe tbody tr th:only-of-type {\n",
       "        vertical-align: middle;\n",
       "    }\n",
       "\n",
       "    .dataframe tbody tr th {\n",
       "        vertical-align: top;\n",
       "    }\n",
       "\n",
       "    .dataframe thead th {\n",
       "        text-align: right;\n",
       "    }\n",
       "</style>\n",
       "<table border=\"1\" class=\"dataframe\">\n",
       "  <thead>\n",
       "    <tr style=\"text-align: right;\">\n",
       "      <th></th>\n",
       "      <th>weekday</th>\n",
       "      <th>hour</th>\n",
       "    </tr>\n",
       "  </thead>\n",
       "  <tbody>\n",
       "    <tr>\n",
       "      <th>518949</th>\n",
       "      <td>3</td>\n",
       "      <td>21</td>\n",
       "    </tr>\n",
       "    <tr>\n",
       "      <th>1128931</th>\n",
       "      <td>6</td>\n",
       "      <td>21</td>\n",
       "    </tr>\n",
       "    <tr>\n",
       "      <th>574396</th>\n",
       "      <td>1</td>\n",
       "      <td>18</td>\n",
       "    </tr>\n",
       "    <tr>\n",
       "      <th>54790</th>\n",
       "      <td>6</td>\n",
       "      <td>17</td>\n",
       "    </tr>\n",
       "    <tr>\n",
       "      <th>599130</th>\n",
       "      <td>0</td>\n",
       "      <td>16</td>\n",
       "    </tr>\n",
       "  </tbody>\n",
       "</table>\n",
       "</div>"
      ],
      "text/plain": [
       "         weekday  hour\n",
       "518949         3    21\n",
       "1128931        6    21\n",
       "574396         1    18\n",
       "54790          6    17\n",
       "599130         0    16"
      ]
     },
     "execution_count": 68,
     "metadata": {},
     "output_type": "execute_result"
    }
   ],
   "source": [
    "transformer_fechas = TransformerFechas()\n",
    "fechas_df = transformer_fechas.fit_transform(x_train)\n",
    "fechas_df.head()"
   ]
  },
  {
   "cell_type": "code",
   "execution_count": 69,
   "id": "05101b57",
   "metadata": {},
   "outputs": [
    {
     "data": {
      "text/plain": [
       "518949     2016-06-02 21:41:39\n",
       "1128931    2016-03-27 21:59:43\n",
       "574396     2016-02-02 18:13:10\n",
       "Name: pickup_datetime, dtype: object"
      ]
     },
     "execution_count": 69,
     "metadata": {},
     "output_type": "execute_result"
    }
   ],
   "source": [
    "x_train[\"pickup_datetime\"].head(3)"
   ]
  },
  {
   "cell_type": "markdown",
   "id": "d27915e3",
   "metadata": {},
   "source": [
    "## Transformer Distancia"
   ]
  },
  {
   "cell_type": "markdown",
   "id": "b1f953f8",
   "metadata": {},
   "source": [
    "También queremos crear una feature que nos ayude a medir la distancia entre el punto de origen y el punto de destino usando la longitud y la latitud en los datos. \n",
    "Nuevamente no tenemos que almacenar cantidades en nuestro método .fit() y calculamos la distancia entre los dos puntos usando la [distancia de Haversine](https://es.wikipedia.org/wiki/F%C3%B3rmula_del_semiverseno). \n",
    "\n",
    "En el código ya está implementada la función para calcular la distancia y no es necesario fijarse en los detalles de la implementación. Como pueden ver, nuestros transformers pueden incluir funciones adicionales que nos ayuden a calcular cantidades útiles para realizar la transformación."
   ]
  },
  {
   "cell_type": "code",
   "execution_count": 70,
   "id": "de5de6e4",
   "metadata": {},
   "outputs": [],
   "source": [
    "class TransformerDistancia(BaseEstimator, TransformerMixin):\n",
    "    def fit(self, X, y=None):\n",
    "        return self\n",
    "\n",
    "    def transform(self, X, y=None):\n",
    "        X_init = X[[\"pickup_latitude\", \"pickup_longitude\"]].to_numpy()\n",
    "        X_final = X[[\"dropoff_latitude\", \"dropoff_longitude\"]].to_numpy()\n",
    "\n",
    "        # Distancia de Haversine\n",
    "        # TODO: Calcular la variable distancia usando la funcion\n",
    "        # distancia de Haversine.\n",
    "        distancia = self.distancia_haversine(X_init,X_final)\n",
    "        distancia_df = pd.DataFrame()\n",
    "        distancia_df[\"distancia\"] = distancia\n",
    "        return distancia_df\n",
    "    \n",
    "    # DISTANCIA GEOESPACIALES - LATITUD/LONGITUD\n",
    "    def distancia_haversine(self, X_init, X_final):\n",
    "        # Convertir de decimal a radianes\n",
    "        X_init = np.radians(X_init)\n",
    "        X_final = np.radians(X_final)\n",
    "\n",
    "        # Formula Haversine\n",
    "        dlat = X_final[:, 0] - X_init[:, 0] \n",
    "        dlon = X_final[:, 1] - X_init[:, 1]\n",
    "        a = np.sin(dlat / 2) ** 2 + np.cos(X_init[:, 0]) * (\n",
    "            np.cos(X_final[:, 0])) * (\n",
    "            np.sin(dlon / 2) ** 2)\n",
    "        c = 2 * np.arcsin(np.sqrt(a))\n",
    "        r = 6371 \n",
    "        # Radius of earth in kilometers. Use 3956 for miles. \n",
    "        # Determines return value units.\n",
    "        return c * r"
   ]
  },
  {
   "cell_type": "markdown",
   "id": "f3335452",
   "metadata": {},
   "source": [
    "## Checkpoint #2.2"
   ]
  },
  {
   "cell_type": "code",
   "execution_count": 71,
   "id": "54b982bd",
   "metadata": {},
   "outputs": [
    {
     "data": {
      "text/html": [
       "<div>\n",
       "<style scoped>\n",
       "    .dataframe tbody tr th:only-of-type {\n",
       "        vertical-align: middle;\n",
       "    }\n",
       "\n",
       "    .dataframe tbody tr th {\n",
       "        vertical-align: top;\n",
       "    }\n",
       "\n",
       "    .dataframe thead th {\n",
       "        text-align: right;\n",
       "    }\n",
       "</style>\n",
       "<table border=\"1\" class=\"dataframe\">\n",
       "  <thead>\n",
       "    <tr style=\"text-align: right;\">\n",
       "      <th></th>\n",
       "      <th>distancia</th>\n",
       "    </tr>\n",
       "  </thead>\n",
       "  <tbody>\n",
       "    <tr>\n",
       "      <th>0</th>\n",
       "      <td>2.404355</td>\n",
       "    </tr>\n",
       "    <tr>\n",
       "      <th>1</th>\n",
       "      <td>0.390267</td>\n",
       "    </tr>\n",
       "    <tr>\n",
       "      <th>2</th>\n",
       "      <td>5.629826</td>\n",
       "    </tr>\n",
       "    <tr>\n",
       "      <th>3</th>\n",
       "      <td>4.298386</td>\n",
       "    </tr>\n",
       "    <tr>\n",
       "      <th>4</th>\n",
       "      <td>7.488963</td>\n",
       "    </tr>\n",
       "  </tbody>\n",
       "</table>\n",
       "</div>"
      ],
      "text/plain": [
       "   distancia\n",
       "0   2.404355\n",
       "1   0.390267\n",
       "2   5.629826\n",
       "3   4.298386\n",
       "4   7.488963"
      ]
     },
     "execution_count": 71,
     "metadata": {},
     "output_type": "execute_result"
    }
   ],
   "source": [
    "transformer_dist = TransformerDistancia()\n",
    "distancias_df = transformer_dist.fit_transform(train_df)\n",
    "distancias_df.head()"
   ]
  },
  {
   "cell_type": "markdown",
   "id": "9223ea5b",
   "metadata": {},
   "source": [
    "## Unión de transformers con Pipelines"
   ]
  },
  {
   "cell_type": "markdown",
   "id": "efc31206",
   "metadata": {},
   "source": [
    "## **Pipeline Numérico**\n",
    "\n",
    "Ahora vamos a usar los objetos de `Pipeline` y `ColumnTransformer` para unir los transformers que ya hemos creado con otros disponibles en sklearn y lograr todas las transformaciones que queremos realizar a todos los datos."
   ]
  },
  {
   "cell_type": "code",
   "execution_count": 72,
   "id": "669b5419",
   "metadata": {},
   "outputs": [],
   "source": [
    "from sklearn.compose import ColumnTransformer\n",
    "from sklearn.pipeline import Pipeline"
   ]
  },
  {
   "cell_type": "markdown",
   "id": "b6e46102",
   "metadata": {},
   "source": [
    "`ColumnTransformer` nos permite **elegir** las **** sobre las que queremos **aplicar una transformación** cuando nos llegan columnas adicionales. En este caso queremos que al TransformerDistancia llegue únicamente pickup_longitude, pickup_latitude, dropoff_longitude y dropoff_latitude ."
   ]
  },
  {
   "cell_type": "markdown",
   "id": "4e4c2bbd",
   "metadata": {},
   "source": [
    "Leyendo la [documentación](https://scikit-learn.org/stable/modules/generated/sklearn.compose.ColumnTransformer.html#sklearn.compose.ColumnTransformer) sabemos que **debemos pasar una tupla** con el _nombre del transformer_, la _clase_ que define el transformer y las _columnas_ sobre las que queremos _aplicar la transformación_. \n",
    "\n",
    "`ColumnTransformer` también nos permite definir qué se debe hacer con las **columnas** que **no** estamos **transformando**; en este caso elegimos **pasarlas sin transformarlas** `remainder=\"passthrough\"`."
   ]
  },
  {
   "cell_type": "code",
   "execution_count": 73,
   "id": "aecbdc48",
   "metadata": {},
   "outputs": [
    {
     "data": {
      "text/html": [
       "<style>#sk-b6ec9d55-8677-4b74-8093-c1dacb446078 {color: black;background-color: white;}#sk-b6ec9d55-8677-4b74-8093-c1dacb446078 pre{padding: 0;}#sk-b6ec9d55-8677-4b74-8093-c1dacb446078 div.sk-toggleable {background-color: white;}#sk-b6ec9d55-8677-4b74-8093-c1dacb446078 label.sk-toggleable__label {cursor: pointer;display: block;width: 100%;margin-bottom: 0;padding: 0.2em 0.3em;box-sizing: border-box;text-align: center;}#sk-b6ec9d55-8677-4b74-8093-c1dacb446078 div.sk-toggleable__content {max-height: 0;max-width: 0;overflow: hidden;text-align: left;background-color: #f0f8ff;}#sk-b6ec9d55-8677-4b74-8093-c1dacb446078 div.sk-toggleable__content pre {margin: 0.2em;color: black;border-radius: 0.25em;background-color: #f0f8ff;}#sk-b6ec9d55-8677-4b74-8093-c1dacb446078 input.sk-toggleable__control:checked~div.sk-toggleable__content {max-height: 200px;max-width: 100%;overflow: auto;}#sk-b6ec9d55-8677-4b74-8093-c1dacb446078 div.sk-estimator input.sk-toggleable__control:checked~label.sk-toggleable__label {background-color: #d4ebff;}#sk-b6ec9d55-8677-4b74-8093-c1dacb446078 div.sk-label input.sk-toggleable__control:checked~label.sk-toggleable__label {background-color: #d4ebff;}#sk-b6ec9d55-8677-4b74-8093-c1dacb446078 input.sk-hidden--visually {border: 0;clip: rect(1px 1px 1px 1px);clip: rect(1px, 1px, 1px, 1px);height: 1px;margin: -1px;overflow: hidden;padding: 0;position: absolute;width: 1px;}#sk-b6ec9d55-8677-4b74-8093-c1dacb446078 div.sk-estimator {font-family: monospace;background-color: #f0f8ff;margin: 0.25em 0.25em;border: 1px dotted black;border-radius: 0.25em;box-sizing: border-box;}#sk-b6ec9d55-8677-4b74-8093-c1dacb446078 div.sk-estimator:hover {background-color: #d4ebff;}#sk-b6ec9d55-8677-4b74-8093-c1dacb446078 div.sk-parallel-item::after {content: \"\";width: 100%;border-bottom: 1px solid gray;flex-grow: 1;}#sk-b6ec9d55-8677-4b74-8093-c1dacb446078 div.sk-label:hover label.sk-toggleable__label {background-color: #d4ebff;}#sk-b6ec9d55-8677-4b74-8093-c1dacb446078 div.sk-serial::before {content: \"\";position: absolute;border-left: 1px solid gray;box-sizing: border-box;top: 2em;bottom: 0;left: 50%;}#sk-b6ec9d55-8677-4b74-8093-c1dacb446078 div.sk-serial {display: flex;flex-direction: column;align-items: center;background-color: white;}#sk-b6ec9d55-8677-4b74-8093-c1dacb446078 div.sk-item {z-index: 1;}#sk-b6ec9d55-8677-4b74-8093-c1dacb446078 div.sk-parallel {display: flex;align-items: stretch;justify-content: center;background-color: white;}#sk-b6ec9d55-8677-4b74-8093-c1dacb446078 div.sk-parallel-item {display: flex;flex-direction: column;position: relative;background-color: white;}#sk-b6ec9d55-8677-4b74-8093-c1dacb446078 div.sk-parallel-item:first-child::after {align-self: flex-end;width: 50%;}#sk-b6ec9d55-8677-4b74-8093-c1dacb446078 div.sk-parallel-item:last-child::after {align-self: flex-start;width: 50%;}#sk-b6ec9d55-8677-4b74-8093-c1dacb446078 div.sk-parallel-item:only-child::after {width: 0;}#sk-b6ec9d55-8677-4b74-8093-c1dacb446078 div.sk-dashed-wrapped {border: 1px dashed gray;margin: 0.2em;box-sizing: border-box;padding-bottom: 0.1em;background-color: white;position: relative;}#sk-b6ec9d55-8677-4b74-8093-c1dacb446078 div.sk-label label {font-family: monospace;font-weight: bold;background-color: white;display: inline-block;line-height: 1.2em;}#sk-b6ec9d55-8677-4b74-8093-c1dacb446078 div.sk-label-container {position: relative;z-index: 2;text-align: center;}#sk-b6ec9d55-8677-4b74-8093-c1dacb446078 div.sk-container {display: inline-block;position: relative;}</style><div id=\"sk-b6ec9d55-8677-4b74-8093-c1dacb446078\" class\"sk-top-container\"><div class=\"sk-container\"><div class=\"sk-item sk-dashed-wrapped\"><div class=\"sk-label-container\"><div class=\"sk-label sk-toggleable\"><input class=\"sk-toggleable__control sk-hidden--visually\" id=\"1e7e17cd-2fd3-451f-b030-3f22ffc4f41c\" type=\"checkbox\" ><label class=\"sk-toggleable__label\" for=\"1e7e17cd-2fd3-451f-b030-3f22ffc4f41c\">ColumnTransformer</label><div class=\"sk-toggleable__content\"><pre>ColumnTransformer(remainder='passthrough',\n",
       "                  transformers=[('transformer_dist', TransformerDistancia(),\n",
       "                                 ['pickup_longitude', 'pickup_latitude',\n",
       "                                  'dropoff_longitude', 'dropoff_latitude'])])</pre></div></div></div><div class=\"sk-parallel\"><div class=\"sk-parallel-item\"><div class=\"sk-item\"><div class=\"sk-label-container\"><div class=\"sk-label sk-toggleable\"><input class=\"sk-toggleable__control sk-hidden--visually\" id=\"77e52ee6-f083-4e0d-9843-caccf99d73e7\" type=\"checkbox\" ><label class=\"sk-toggleable__label\" for=\"77e52ee6-f083-4e0d-9843-caccf99d73e7\">transformer_dist</label><div class=\"sk-toggleable__content\"><pre>['pickup_longitude', 'pickup_latitude', 'dropoff_longitude', 'dropoff_latitude']</pre></div></div></div><div class=\"sk-serial\"><div class=\"sk-item\"><div class=\"sk-estimator sk-toggleable\"><input class=\"sk-toggleable__control sk-hidden--visually\" id=\"1d449fb0-4256-4b62-bff7-b1f0e520ed29\" type=\"checkbox\" ><label class=\"sk-toggleable__label\" for=\"1d449fb0-4256-4b62-bff7-b1f0e520ed29\">TransformerDistancia</label><div class=\"sk-toggleable__content\"><pre>TransformerDistancia()</pre></div></div></div></div></div></div><div class=\"sk-parallel-item\"><div class=\"sk-item\"><div class=\"sk-label-container\"><div class=\"sk-label sk-toggleable\"><input class=\"sk-toggleable__control sk-hidden--visually\" id=\"2fcecd4d-cc40-47c1-b8e9-84fbf88d0db9\" type=\"checkbox\" ><label class=\"sk-toggleable__label\" for=\"2fcecd4d-cc40-47c1-b8e9-84fbf88d0db9\">remainder</label><div class=\"sk-toggleable__content\"><pre></pre></div></div></div><div class=\"sk-serial\"><div class=\"sk-item\"><div class=\"sk-estimator sk-toggleable\"><input class=\"sk-toggleable__control sk-hidden--visually\" id=\"657f8341-0071-422e-a678-adeeaae84cdc\" type=\"checkbox\" ><label class=\"sk-toggleable__label\" for=\"657f8341-0071-422e-a678-adeeaae84cdc\">passthrough</label><div class=\"sk-toggleable__content\"><pre>passthrough</pre></div></div></div></div></div></div></div></div></div></div>"
      ],
      "text/plain": [
       "ColumnTransformer(remainder='passthrough',\n",
       "                  transformers=[('transformer_dist', TransformerDistancia(),\n",
       "                                 ['pickup_longitude', 'pickup_latitude',\n",
       "                                  'dropoff_longitude', 'dropoff_latitude'])])"
      ]
     },
     "metadata": {},
     "output_type": "display_data"
    }
   ],
   "source": [
    "coord_cols = [\n",
    "    \"pickup_longitude\",\n",
    "    \"pickup_latitude\",\n",
    "    \"dropoff_longitude\",\n",
    "    \"dropoff_latitude\"\n",
    "]\n",
    "\n",
    "transformer_coord = ColumnTransformer(\n",
    "    [\n",
    "        (\"transformer_dist\", TransformerDistancia(), coord_cols),\n",
    "    ],\n",
    "    remainder=\"passthrough\" # Las demas variables no sean transformadas\n",
    ")\n",
    "\n",
    "display(transformer_coord)"
   ]
  },
  {
   "cell_type": "markdown",
   "id": "e0a40185",
   "metadata": {},
   "source": [
    "Ahora que tenemos nuestro transformer que realiza transformación usando las coordenadas y deja pasar columnas adicionales, vamos a usarlo para unirlo con la otra variable númerica que tenemos en el dataset `—passenger_count—` y normalizarlas usando `StandardScaler`. Para esto vamos a usar el objeto `Pipeline`."
   ]
  },
  {
   "cell_type": "markdown",
   "id": "910ac6a9",
   "metadata": {},
   "source": [
    "`Pipeline` [(documentación Pipeline)](https://scikit-learn.org/stable/modules/generated/sklearn.pipeline.Pipeline.html#sklearn.pipeline.Pipeline) nos permite concatenar transformaciones de sklearn. En este caso vamos a concatenar el ColumnTransformer que creamos con TransformerDistancia con el StandardScaler. Como passenger_count no estaba entre columnas que selecciona transformer_coord, esa columna pasa directamente a ser normalizada por el StandardScaler."
   ]
  },
  {
   "cell_type": "code",
   "execution_count": 74,
   "id": "ccb542ab",
   "metadata": {},
   "outputs": [
    {
     "name": "stdout",
     "output_type": "stream",
     "text": [
      "[[-0.25154928 -0.50616698]\n",
      " [-0.73141214  0.25385023]\n",
      " [ 0.51692963 -0.50616698]\n",
      " ...\n",
      " [-0.41058443 -0.50616698]\n",
      " [-0.3461049  -0.50616698]\n",
      " [ 1.33898968  0.25385023]]\n"
     ]
    }
   ],
   "source": [
    "num_cols = [\"passenger_count\"] + coord_cols\n",
    "\n",
    "num_pipeline = Pipeline(\n",
    "    [\n",
    "        (\"transformer_coord\", transformer_coord), # distancia / los 2 puntos\n",
    "        (\"scaler\", StandardScaler())\n",
    "    ]\n",
    ")\n",
    "\n",
    "X_num = num_pipeline.fit_transform(x_train[num_cols], y_train)\n",
    "print(X_num)"
   ]
  },
  {
   "cell_type": "markdown",
   "id": "fc9c7009",
   "metadata": {},
   "source": [
    "Usando la función `display` podemos ver el diagrama del flujo que acabamos de crear. Por `TransformerDistancia` pasan las variables de longitud y latitud y por `passthrough` pasa cualquier columna que le pasemos al ColumnTransformer que no sean longitud o latitud—en este caso passenger_count. El último paso es aplicar un `StandardScaler` a la variable de distancia que sale de TransformerDistancia y a las variables que vienen de passthrough."
   ]
  },
  {
   "cell_type": "code",
   "execution_count": 75,
   "id": "f89401a4",
   "metadata": {},
   "outputs": [
    {
     "data": {
      "text/html": [
       "<style>#sk-118ebe51-075e-49ef-8257-0d0d5cd42038 {color: black;background-color: white;}#sk-118ebe51-075e-49ef-8257-0d0d5cd42038 pre{padding: 0;}#sk-118ebe51-075e-49ef-8257-0d0d5cd42038 div.sk-toggleable {background-color: white;}#sk-118ebe51-075e-49ef-8257-0d0d5cd42038 label.sk-toggleable__label {cursor: pointer;display: block;width: 100%;margin-bottom: 0;padding: 0.2em 0.3em;box-sizing: border-box;text-align: center;}#sk-118ebe51-075e-49ef-8257-0d0d5cd42038 div.sk-toggleable__content {max-height: 0;max-width: 0;overflow: hidden;text-align: left;background-color: #f0f8ff;}#sk-118ebe51-075e-49ef-8257-0d0d5cd42038 div.sk-toggleable__content pre {margin: 0.2em;color: black;border-radius: 0.25em;background-color: #f0f8ff;}#sk-118ebe51-075e-49ef-8257-0d0d5cd42038 input.sk-toggleable__control:checked~div.sk-toggleable__content {max-height: 200px;max-width: 100%;overflow: auto;}#sk-118ebe51-075e-49ef-8257-0d0d5cd42038 div.sk-estimator input.sk-toggleable__control:checked~label.sk-toggleable__label {background-color: #d4ebff;}#sk-118ebe51-075e-49ef-8257-0d0d5cd42038 div.sk-label input.sk-toggleable__control:checked~label.sk-toggleable__label {background-color: #d4ebff;}#sk-118ebe51-075e-49ef-8257-0d0d5cd42038 input.sk-hidden--visually {border: 0;clip: rect(1px 1px 1px 1px);clip: rect(1px, 1px, 1px, 1px);height: 1px;margin: -1px;overflow: hidden;padding: 0;position: absolute;width: 1px;}#sk-118ebe51-075e-49ef-8257-0d0d5cd42038 div.sk-estimator {font-family: monospace;background-color: #f0f8ff;margin: 0.25em 0.25em;border: 1px dotted black;border-radius: 0.25em;box-sizing: border-box;}#sk-118ebe51-075e-49ef-8257-0d0d5cd42038 div.sk-estimator:hover {background-color: #d4ebff;}#sk-118ebe51-075e-49ef-8257-0d0d5cd42038 div.sk-parallel-item::after {content: \"\";width: 100%;border-bottom: 1px solid gray;flex-grow: 1;}#sk-118ebe51-075e-49ef-8257-0d0d5cd42038 div.sk-label:hover label.sk-toggleable__label {background-color: #d4ebff;}#sk-118ebe51-075e-49ef-8257-0d0d5cd42038 div.sk-serial::before {content: \"\";position: absolute;border-left: 1px solid gray;box-sizing: border-box;top: 2em;bottom: 0;left: 50%;}#sk-118ebe51-075e-49ef-8257-0d0d5cd42038 div.sk-serial {display: flex;flex-direction: column;align-items: center;background-color: white;}#sk-118ebe51-075e-49ef-8257-0d0d5cd42038 div.sk-item {z-index: 1;}#sk-118ebe51-075e-49ef-8257-0d0d5cd42038 div.sk-parallel {display: flex;align-items: stretch;justify-content: center;background-color: white;}#sk-118ebe51-075e-49ef-8257-0d0d5cd42038 div.sk-parallel-item {display: flex;flex-direction: column;position: relative;background-color: white;}#sk-118ebe51-075e-49ef-8257-0d0d5cd42038 div.sk-parallel-item:first-child::after {align-self: flex-end;width: 50%;}#sk-118ebe51-075e-49ef-8257-0d0d5cd42038 div.sk-parallel-item:last-child::after {align-self: flex-start;width: 50%;}#sk-118ebe51-075e-49ef-8257-0d0d5cd42038 div.sk-parallel-item:only-child::after {width: 0;}#sk-118ebe51-075e-49ef-8257-0d0d5cd42038 div.sk-dashed-wrapped {border: 1px dashed gray;margin: 0.2em;box-sizing: border-box;padding-bottom: 0.1em;background-color: white;position: relative;}#sk-118ebe51-075e-49ef-8257-0d0d5cd42038 div.sk-label label {font-family: monospace;font-weight: bold;background-color: white;display: inline-block;line-height: 1.2em;}#sk-118ebe51-075e-49ef-8257-0d0d5cd42038 div.sk-label-container {position: relative;z-index: 2;text-align: center;}#sk-118ebe51-075e-49ef-8257-0d0d5cd42038 div.sk-container {display: inline-block;position: relative;}</style><div id=\"sk-118ebe51-075e-49ef-8257-0d0d5cd42038\" class\"sk-top-container\"><div class=\"sk-container\"><div class=\"sk-item sk-dashed-wrapped\"><div class=\"sk-label-container\"><div class=\"sk-label sk-toggleable\"><input class=\"sk-toggleable__control sk-hidden--visually\" id=\"587f099a-36a9-4f9a-a844-1ccc2f141840\" type=\"checkbox\" ><label class=\"sk-toggleable__label\" for=\"587f099a-36a9-4f9a-a844-1ccc2f141840\">Pipeline</label><div class=\"sk-toggleable__content\"><pre>Pipeline(steps=[('transformer_coord',\n",
       "                 ColumnTransformer(remainder='passthrough',\n",
       "                                   transformers=[('transformer_dist',\n",
       "                                                  TransformerDistancia(),\n",
       "                                                  ['pickup_longitude',\n",
       "                                                   'pickup_latitude',\n",
       "                                                   'dropoff_longitude',\n",
       "                                                   'dropoff_latitude'])])),\n",
       "                ('scaler', StandardScaler())])</pre></div></div></div><div class=\"sk-serial\"><div class=\"sk-item sk-dashed-wrapped\"><div class=\"sk-label-container\"><div class=\"sk-label sk-toggleable\"><input class=\"sk-toggleable__control sk-hidden--visually\" id=\"f7534faa-2bb5-4180-9638-a1fd5fc6b8c3\" type=\"checkbox\" ><label class=\"sk-toggleable__label\" for=\"f7534faa-2bb5-4180-9638-a1fd5fc6b8c3\">transformer_coord: ColumnTransformer</label><div class=\"sk-toggleable__content\"><pre>ColumnTransformer(remainder='passthrough',\n",
       "                  transformers=[('transformer_dist', TransformerDistancia(),\n",
       "                                 ['pickup_longitude', 'pickup_latitude',\n",
       "                                  'dropoff_longitude', 'dropoff_latitude'])])</pre></div></div></div><div class=\"sk-parallel\"><div class=\"sk-parallel-item\"><div class=\"sk-item\"><div class=\"sk-label-container\"><div class=\"sk-label sk-toggleable\"><input class=\"sk-toggleable__control sk-hidden--visually\" id=\"7324ae0d-8f86-4b3e-930d-05fab261b179\" type=\"checkbox\" ><label class=\"sk-toggleable__label\" for=\"7324ae0d-8f86-4b3e-930d-05fab261b179\">transformer_dist</label><div class=\"sk-toggleable__content\"><pre>['pickup_longitude', 'pickup_latitude', 'dropoff_longitude', 'dropoff_latitude']</pre></div></div></div><div class=\"sk-serial\"><div class=\"sk-item\"><div class=\"sk-estimator sk-toggleable\"><input class=\"sk-toggleable__control sk-hidden--visually\" id=\"c2a6dbf0-47e8-4cda-822f-b690b16056d4\" type=\"checkbox\" ><label class=\"sk-toggleable__label\" for=\"c2a6dbf0-47e8-4cda-822f-b690b16056d4\">TransformerDistancia</label><div class=\"sk-toggleable__content\"><pre>TransformerDistancia()</pre></div></div></div></div></div></div><div class=\"sk-parallel-item\"><div class=\"sk-item\"><div class=\"sk-label-container\"><div class=\"sk-label sk-toggleable\"><input class=\"sk-toggleable__control sk-hidden--visually\" id=\"5c809f60-ffbb-4fa8-b212-180ddf2e0000\" type=\"checkbox\" ><label class=\"sk-toggleable__label\" for=\"5c809f60-ffbb-4fa8-b212-180ddf2e0000\">remainder</label><div class=\"sk-toggleable__content\"><pre>['passenger_count']</pre></div></div></div><div class=\"sk-serial\"><div class=\"sk-item\"><div class=\"sk-estimator sk-toggleable\"><input class=\"sk-toggleable__control sk-hidden--visually\" id=\"b61412dd-bdae-4c73-a7b6-a7aa03c54e80\" type=\"checkbox\" ><label class=\"sk-toggleable__label\" for=\"b61412dd-bdae-4c73-a7b6-a7aa03c54e80\">passthrough</label><div class=\"sk-toggleable__content\"><pre>passthrough</pre></div></div></div></div></div></div></div></div><div class=\"sk-item\"><div class=\"sk-estimator sk-toggleable\"><input class=\"sk-toggleable__control sk-hidden--visually\" id=\"f24e5b73-4e6f-419b-9ac1-531b1fd4bb38\" type=\"checkbox\" ><label class=\"sk-toggleable__label\" for=\"f24e5b73-4e6f-419b-9ac1-531b1fd4bb38\">StandardScaler</label><div class=\"sk-toggleable__content\"><pre>StandardScaler()</pre></div></div></div></div></div></div></div>"
      ],
      "text/plain": [
       "Pipeline(steps=[('transformer_coord',\n",
       "                 ColumnTransformer(remainder='passthrough',\n",
       "                                   transformers=[('transformer_dist',\n",
       "                                                  TransformerDistancia(),\n",
       "                                                  ['pickup_longitude',\n",
       "                                                   'pickup_latitude',\n",
       "                                                   'dropoff_longitude',\n",
       "                                                   'dropoff_latitude'])])),\n",
       "                ('scaler', StandardScaler())])"
      ]
     },
     "metadata": {},
     "output_type": "display_data"
    }
   ],
   "source": [
    "display(num_pipeline)"
   ]
  },
  {
   "cell_type": "markdown",
   "id": "4b2cf57d",
   "metadata": {},
   "source": [
    "## **Pipeline Categórico**\n",
    "Usaremos una lógica similar para las variables categóricas pero esta vez para concatenar el resultado de extraer variables temporales de la fecha de inicio del viaje con un `OneHotEncoder` para las variables categóricas de los datos."
   ]
  },
  {
   "cell_type": "code",
   "execution_count": 76,
   "id": "2b701407",
   "metadata": {},
   "outputs": [],
   "source": [
    "from sklearn.preprocessing import OrdinalEncoder\n",
    "\n",
    "cat_cols = [\"vendor_id\", \"pickup_borough\", \"pickup_datetime\"]\n",
    "\n",
    "transformer_fechas = ColumnTransformer(\n",
    "    [\n",
    "        #TODO: Punto 1 de Checkpoint 3\n",
    "        (\"transformer_fechas\",TransformerFechas(),['pickup_datetime'])\n",
    "    ],\n",
    "    remainder=\"passthrough\"\n",
    ")\n",
    "\n",
    "cat_pipeline = Pipeline(\n",
    "    [\n",
    "        #TODO: Punto 2 de Checkpoint 3\n",
    "        (\"transformer_fechas\",transformer_fechas),\n",
    "        (\"OrdinalEncoder\",OrdinalEncoder())\n",
    "    ]\n",
    ")\n",
    "\n",
    "X_cat = cat_pipeline.fit_transform(x_train[cat_cols])"
   ]
  },
  {
   "cell_type": "markdown",
   "id": "daea519c",
   "metadata": {},
   "source": [
    "## Checkpoint #3"
   ]
  },
  {
   "cell_type": "code",
   "execution_count": 77,
   "id": "a0263b9c",
   "metadata": {},
   "outputs": [
    {
     "data": {
      "text/html": [
       "<style>#sk-1b833ff3-4cd0-4c0d-95f2-8db944618119 {color: black;background-color: white;}#sk-1b833ff3-4cd0-4c0d-95f2-8db944618119 pre{padding: 0;}#sk-1b833ff3-4cd0-4c0d-95f2-8db944618119 div.sk-toggleable {background-color: white;}#sk-1b833ff3-4cd0-4c0d-95f2-8db944618119 label.sk-toggleable__label {cursor: pointer;display: block;width: 100%;margin-bottom: 0;padding: 0.2em 0.3em;box-sizing: border-box;text-align: center;}#sk-1b833ff3-4cd0-4c0d-95f2-8db944618119 div.sk-toggleable__content {max-height: 0;max-width: 0;overflow: hidden;text-align: left;background-color: #f0f8ff;}#sk-1b833ff3-4cd0-4c0d-95f2-8db944618119 div.sk-toggleable__content pre {margin: 0.2em;color: black;border-radius: 0.25em;background-color: #f0f8ff;}#sk-1b833ff3-4cd0-4c0d-95f2-8db944618119 input.sk-toggleable__control:checked~div.sk-toggleable__content {max-height: 200px;max-width: 100%;overflow: auto;}#sk-1b833ff3-4cd0-4c0d-95f2-8db944618119 div.sk-estimator input.sk-toggleable__control:checked~label.sk-toggleable__label {background-color: #d4ebff;}#sk-1b833ff3-4cd0-4c0d-95f2-8db944618119 div.sk-label input.sk-toggleable__control:checked~label.sk-toggleable__label {background-color: #d4ebff;}#sk-1b833ff3-4cd0-4c0d-95f2-8db944618119 input.sk-hidden--visually {border: 0;clip: rect(1px 1px 1px 1px);clip: rect(1px, 1px, 1px, 1px);height: 1px;margin: -1px;overflow: hidden;padding: 0;position: absolute;width: 1px;}#sk-1b833ff3-4cd0-4c0d-95f2-8db944618119 div.sk-estimator {font-family: monospace;background-color: #f0f8ff;margin: 0.25em 0.25em;border: 1px dotted black;border-radius: 0.25em;box-sizing: border-box;}#sk-1b833ff3-4cd0-4c0d-95f2-8db944618119 div.sk-estimator:hover {background-color: #d4ebff;}#sk-1b833ff3-4cd0-4c0d-95f2-8db944618119 div.sk-parallel-item::after {content: \"\";width: 100%;border-bottom: 1px solid gray;flex-grow: 1;}#sk-1b833ff3-4cd0-4c0d-95f2-8db944618119 div.sk-label:hover label.sk-toggleable__label {background-color: #d4ebff;}#sk-1b833ff3-4cd0-4c0d-95f2-8db944618119 div.sk-serial::before {content: \"\";position: absolute;border-left: 1px solid gray;box-sizing: border-box;top: 2em;bottom: 0;left: 50%;}#sk-1b833ff3-4cd0-4c0d-95f2-8db944618119 div.sk-serial {display: flex;flex-direction: column;align-items: center;background-color: white;}#sk-1b833ff3-4cd0-4c0d-95f2-8db944618119 div.sk-item {z-index: 1;}#sk-1b833ff3-4cd0-4c0d-95f2-8db944618119 div.sk-parallel {display: flex;align-items: stretch;justify-content: center;background-color: white;}#sk-1b833ff3-4cd0-4c0d-95f2-8db944618119 div.sk-parallel-item {display: flex;flex-direction: column;position: relative;background-color: white;}#sk-1b833ff3-4cd0-4c0d-95f2-8db944618119 div.sk-parallel-item:first-child::after {align-self: flex-end;width: 50%;}#sk-1b833ff3-4cd0-4c0d-95f2-8db944618119 div.sk-parallel-item:last-child::after {align-self: flex-start;width: 50%;}#sk-1b833ff3-4cd0-4c0d-95f2-8db944618119 div.sk-parallel-item:only-child::after {width: 0;}#sk-1b833ff3-4cd0-4c0d-95f2-8db944618119 div.sk-dashed-wrapped {border: 1px dashed gray;margin: 0.2em;box-sizing: border-box;padding-bottom: 0.1em;background-color: white;position: relative;}#sk-1b833ff3-4cd0-4c0d-95f2-8db944618119 div.sk-label label {font-family: monospace;font-weight: bold;background-color: white;display: inline-block;line-height: 1.2em;}#sk-1b833ff3-4cd0-4c0d-95f2-8db944618119 div.sk-label-container {position: relative;z-index: 2;text-align: center;}#sk-1b833ff3-4cd0-4c0d-95f2-8db944618119 div.sk-container {display: inline-block;position: relative;}</style><div id=\"sk-1b833ff3-4cd0-4c0d-95f2-8db944618119\" class\"sk-top-container\"><div class=\"sk-container\"><div class=\"sk-item sk-dashed-wrapped\"><div class=\"sk-label-container\"><div class=\"sk-label sk-toggleable\"><input class=\"sk-toggleable__control sk-hidden--visually\" id=\"0e95c845-7a7d-42c2-9a74-027478f6937d\" type=\"checkbox\" ><label class=\"sk-toggleable__label\" for=\"0e95c845-7a7d-42c2-9a74-027478f6937d\">Pipeline</label><div class=\"sk-toggleable__content\"><pre>Pipeline(steps=[('transformer_fechas',\n",
       "                 ColumnTransformer(remainder='passthrough',\n",
       "                                   transformers=[('transformer_fechas',\n",
       "                                                  TransformerFechas(),\n",
       "                                                  ['pickup_datetime'])])),\n",
       "                ('OrdinalEncoder', OrdinalEncoder())])</pre></div></div></div><div class=\"sk-serial\"><div class=\"sk-item sk-dashed-wrapped\"><div class=\"sk-label-container\"><div class=\"sk-label sk-toggleable\"><input class=\"sk-toggleable__control sk-hidden--visually\" id=\"96b1ae88-9a23-41b3-964d-810918b7b32c\" type=\"checkbox\" ><label class=\"sk-toggleable__label\" for=\"96b1ae88-9a23-41b3-964d-810918b7b32c\">transformer_fechas: ColumnTransformer</label><div class=\"sk-toggleable__content\"><pre>ColumnTransformer(remainder='passthrough',\n",
       "                  transformers=[('transformer_fechas', TransformerFechas(),\n",
       "                                 ['pickup_datetime'])])</pre></div></div></div><div class=\"sk-parallel\"><div class=\"sk-parallel-item\"><div class=\"sk-item\"><div class=\"sk-label-container\"><div class=\"sk-label sk-toggleable\"><input class=\"sk-toggleable__control sk-hidden--visually\" id=\"f6d59174-749e-42b6-9fd6-af2e0f19c786\" type=\"checkbox\" ><label class=\"sk-toggleable__label\" for=\"f6d59174-749e-42b6-9fd6-af2e0f19c786\">transformer_fechas</label><div class=\"sk-toggleable__content\"><pre>['pickup_datetime']</pre></div></div></div><div class=\"sk-serial\"><div class=\"sk-item\"><div class=\"sk-estimator sk-toggleable\"><input class=\"sk-toggleable__control sk-hidden--visually\" id=\"ff818d77-6619-4fd9-9dae-2386ab887c35\" type=\"checkbox\" ><label class=\"sk-toggleable__label\" for=\"ff818d77-6619-4fd9-9dae-2386ab887c35\">TransformerFechas</label><div class=\"sk-toggleable__content\"><pre>TransformerFechas()</pre></div></div></div></div></div></div><div class=\"sk-parallel-item\"><div class=\"sk-item\"><div class=\"sk-label-container\"><div class=\"sk-label sk-toggleable\"><input class=\"sk-toggleable__control sk-hidden--visually\" id=\"93dc7296-739e-4a26-85c9-49b290388877\" type=\"checkbox\" ><label class=\"sk-toggleable__label\" for=\"93dc7296-739e-4a26-85c9-49b290388877\">remainder</label><div class=\"sk-toggleable__content\"><pre>['vendor_id', 'pickup_borough']</pre></div></div></div><div class=\"sk-serial\"><div class=\"sk-item\"><div class=\"sk-estimator sk-toggleable\"><input class=\"sk-toggleable__control sk-hidden--visually\" id=\"d8dda5bd-f5db-4f94-b80d-d98d9159b64e\" type=\"checkbox\" ><label class=\"sk-toggleable__label\" for=\"d8dda5bd-f5db-4f94-b80d-d98d9159b64e\">passthrough</label><div class=\"sk-toggleable__content\"><pre>passthrough</pre></div></div></div></div></div></div></div></div><div class=\"sk-item\"><div class=\"sk-estimator sk-toggleable\"><input class=\"sk-toggleable__control sk-hidden--visually\" id=\"a51630c4-698f-41b4-bc24-c96995643fba\" type=\"checkbox\" ><label class=\"sk-toggleable__label\" for=\"a51630c4-698f-41b4-bc24-c96995643fba\">OrdinalEncoder</label><div class=\"sk-toggleable__content\"><pre>OrdinalEncoder()</pre></div></div></div></div></div></div></div>"
      ],
      "text/plain": [
       "Pipeline(steps=[('transformer_fechas',\n",
       "                 ColumnTransformer(remainder='passthrough',\n",
       "                                   transformers=[('transformer_fechas',\n",
       "                                                  TransformerFechas(),\n",
       "                                                  ['pickup_datetime'])])),\n",
       "                ('OrdinalEncoder', OrdinalEncoder())])"
      ]
     },
     "metadata": {},
     "output_type": "display_data"
    }
   ],
   "source": [
    "display(cat_pipeline)"
   ]
  },
  {
   "cell_type": "markdown",
   "id": "b537332c",
   "metadata": {},
   "source": [
    "## Unión de Pipelines"
   ]
  },
  {
   "cell_type": "markdown",
   "id": "6b87f8fa",
   "metadata": {},
   "source": [
    "Por último, usaremos nuevamente el `ColumnTransformer` para determinar cuáles son las variables numéricas y las variables catégoricas en nuestros datos. \n",
    "Definiendo varios elementos en la lista que le pasamos al ColumnTransformer le hacemos saber a sklearn que queremos diferentes transformaciones para las columnas y al final queremos unirlas para que todas queden en un solo numpy array. En nuestro caso, unimos las columnas que resultan del preprocesamiento de las categóricas y del de las numéricas."
   ]
  },
  {
   "cell_type": "code",
   "execution_count": 78,
   "id": "d034a6c2",
   "metadata": {},
   "outputs": [
    {
     "name": "stdout",
     "output_type": "stream",
     "text": [
      "(1085891, 6)\n"
     ]
    }
   ],
   "source": [
    "from sklearn.pipeline import FeatureUnion\n",
    "\n",
    "full_pipeline = ColumnTransformer(\n",
    "    [\n",
    "        (\"num_pipeline\", num_pipeline, num_cols),\n",
    "        (\"cat_pipeline\", cat_pipeline, cat_cols)\n",
    "    ]\n",
    ")\n",
    "\n",
    "X_transformed = full_pipeline.fit_transform(x_train, y_train)\n",
    "print(X_transformed.shape)"
   ]
  },
  {
   "cell_type": "markdown",
   "id": "d53840ea",
   "metadata": {},
   "source": [
    "En este diagrama podemos ver que ejecutamos las transformaciones por separado para las variables numéricas y las categóricas y al final las unimos para tener los datos en un array que le pasaremos al modelo al momento de entrenar."
   ]
  },
  {
   "cell_type": "code",
   "execution_count": 79,
   "id": "91a9d418",
   "metadata": {},
   "outputs": [
    {
     "data": {
      "text/html": [
       "<style>#sk-4f1107af-51ee-42b5-b281-cfb37c07f917 {color: black;background-color: white;}#sk-4f1107af-51ee-42b5-b281-cfb37c07f917 pre{padding: 0;}#sk-4f1107af-51ee-42b5-b281-cfb37c07f917 div.sk-toggleable {background-color: white;}#sk-4f1107af-51ee-42b5-b281-cfb37c07f917 label.sk-toggleable__label {cursor: pointer;display: block;width: 100%;margin-bottom: 0;padding: 0.2em 0.3em;box-sizing: border-box;text-align: center;}#sk-4f1107af-51ee-42b5-b281-cfb37c07f917 div.sk-toggleable__content {max-height: 0;max-width: 0;overflow: hidden;text-align: left;background-color: #f0f8ff;}#sk-4f1107af-51ee-42b5-b281-cfb37c07f917 div.sk-toggleable__content pre {margin: 0.2em;color: black;border-radius: 0.25em;background-color: #f0f8ff;}#sk-4f1107af-51ee-42b5-b281-cfb37c07f917 input.sk-toggleable__control:checked~div.sk-toggleable__content {max-height: 200px;max-width: 100%;overflow: auto;}#sk-4f1107af-51ee-42b5-b281-cfb37c07f917 div.sk-estimator input.sk-toggleable__control:checked~label.sk-toggleable__label {background-color: #d4ebff;}#sk-4f1107af-51ee-42b5-b281-cfb37c07f917 div.sk-label input.sk-toggleable__control:checked~label.sk-toggleable__label {background-color: #d4ebff;}#sk-4f1107af-51ee-42b5-b281-cfb37c07f917 input.sk-hidden--visually {border: 0;clip: rect(1px 1px 1px 1px);clip: rect(1px, 1px, 1px, 1px);height: 1px;margin: -1px;overflow: hidden;padding: 0;position: absolute;width: 1px;}#sk-4f1107af-51ee-42b5-b281-cfb37c07f917 div.sk-estimator {font-family: monospace;background-color: #f0f8ff;margin: 0.25em 0.25em;border: 1px dotted black;border-radius: 0.25em;box-sizing: border-box;}#sk-4f1107af-51ee-42b5-b281-cfb37c07f917 div.sk-estimator:hover {background-color: #d4ebff;}#sk-4f1107af-51ee-42b5-b281-cfb37c07f917 div.sk-parallel-item::after {content: \"\";width: 100%;border-bottom: 1px solid gray;flex-grow: 1;}#sk-4f1107af-51ee-42b5-b281-cfb37c07f917 div.sk-label:hover label.sk-toggleable__label {background-color: #d4ebff;}#sk-4f1107af-51ee-42b5-b281-cfb37c07f917 div.sk-serial::before {content: \"\";position: absolute;border-left: 1px solid gray;box-sizing: border-box;top: 2em;bottom: 0;left: 50%;}#sk-4f1107af-51ee-42b5-b281-cfb37c07f917 div.sk-serial {display: flex;flex-direction: column;align-items: center;background-color: white;}#sk-4f1107af-51ee-42b5-b281-cfb37c07f917 div.sk-item {z-index: 1;}#sk-4f1107af-51ee-42b5-b281-cfb37c07f917 div.sk-parallel {display: flex;align-items: stretch;justify-content: center;background-color: white;}#sk-4f1107af-51ee-42b5-b281-cfb37c07f917 div.sk-parallel-item {display: flex;flex-direction: column;position: relative;background-color: white;}#sk-4f1107af-51ee-42b5-b281-cfb37c07f917 div.sk-parallel-item:first-child::after {align-self: flex-end;width: 50%;}#sk-4f1107af-51ee-42b5-b281-cfb37c07f917 div.sk-parallel-item:last-child::after {align-self: flex-start;width: 50%;}#sk-4f1107af-51ee-42b5-b281-cfb37c07f917 div.sk-parallel-item:only-child::after {width: 0;}#sk-4f1107af-51ee-42b5-b281-cfb37c07f917 div.sk-dashed-wrapped {border: 1px dashed gray;margin: 0.2em;box-sizing: border-box;padding-bottom: 0.1em;background-color: white;position: relative;}#sk-4f1107af-51ee-42b5-b281-cfb37c07f917 div.sk-label label {font-family: monospace;font-weight: bold;background-color: white;display: inline-block;line-height: 1.2em;}#sk-4f1107af-51ee-42b5-b281-cfb37c07f917 div.sk-label-container {position: relative;z-index: 2;text-align: center;}#sk-4f1107af-51ee-42b5-b281-cfb37c07f917 div.sk-container {display: inline-block;position: relative;}</style><div id=\"sk-4f1107af-51ee-42b5-b281-cfb37c07f917\" class\"sk-top-container\"><div class=\"sk-container\"><div class=\"sk-item sk-dashed-wrapped\"><div class=\"sk-label-container\"><div class=\"sk-label sk-toggleable\"><input class=\"sk-toggleable__control sk-hidden--visually\" id=\"3f874cfa-2ac9-4214-afc5-326808038784\" type=\"checkbox\" ><label class=\"sk-toggleable__label\" for=\"3f874cfa-2ac9-4214-afc5-326808038784\">ColumnTransformer</label><div class=\"sk-toggleable__content\"><pre>ColumnTransformer(transformers=[('num_pipeline',\n",
       "                                 Pipeline(steps=[('transformer_coord',\n",
       "                                                  ColumnTransformer(remainder='passthrough',\n",
       "                                                                    transformers=[('transformer_dist',\n",
       "                                                                                   TransformerDistancia(),\n",
       "                                                                                   ['pickup_longitude',\n",
       "                                                                                    'pickup_latitude',\n",
       "                                                                                    'dropoff_longitude',\n",
       "                                                                                    'dropoff_latitude'])])),\n",
       "                                                 ('scaler', StandardScaler())]),\n",
       "                                 ['passenger_count', 'pickup_longitude',\n",
       "                                  'pickup_latitude', 'dropoff_longitude',\n",
       "                                  'dropoff_latitude']),\n",
       "                                ('cat_pipeline',\n",
       "                                 Pipeline(steps=[('transformer_fechas',\n",
       "                                                  ColumnTransformer(remainder='passthrough',\n",
       "                                                                    transformers=[('transformer_fechas',\n",
       "                                                                                   TransformerFechas(),\n",
       "                                                                                   ['pickup_datetime'])])),\n",
       "                                                 ('OrdinalEncoder',\n",
       "                                                  OrdinalEncoder())]),\n",
       "                                 ['vendor_id', 'pickup_borough',\n",
       "                                  'pickup_datetime'])])</pre></div></div></div><div class=\"sk-parallel\"><div class=\"sk-parallel-item\"><div class=\"sk-item\"><div class=\"sk-label-container\"><div class=\"sk-label sk-toggleable\"><input class=\"sk-toggleable__control sk-hidden--visually\" id=\"c2b41328-3401-4828-a1b5-f262b775e2df\" type=\"checkbox\" ><label class=\"sk-toggleable__label\" for=\"c2b41328-3401-4828-a1b5-f262b775e2df\">num_pipeline</label><div class=\"sk-toggleable__content\"><pre>['passenger_count', 'pickup_longitude', 'pickup_latitude', 'dropoff_longitude', 'dropoff_latitude']</pre></div></div></div><div class=\"sk-serial\"><div class=\"sk-item\"><div class=\"sk-serial\"><div class=\"sk-item sk-dashed-wrapped\"><div class=\"sk-label-container\"><div class=\"sk-label sk-toggleable\"><input class=\"sk-toggleable__control sk-hidden--visually\" id=\"4edb41e2-a266-4333-8137-84566659ecae\" type=\"checkbox\" ><label class=\"sk-toggleable__label\" for=\"4edb41e2-a266-4333-8137-84566659ecae\">transformer_coord: ColumnTransformer</label><div class=\"sk-toggleable__content\"><pre>ColumnTransformer(remainder='passthrough',\n",
       "                  transformers=[('transformer_dist', TransformerDistancia(),\n",
       "                                 ['pickup_longitude', 'pickup_latitude',\n",
       "                                  'dropoff_longitude', 'dropoff_latitude'])])</pre></div></div></div><div class=\"sk-parallel\"><div class=\"sk-parallel-item\"><div class=\"sk-item\"><div class=\"sk-label-container\"><div class=\"sk-label sk-toggleable\"><input class=\"sk-toggleable__control sk-hidden--visually\" id=\"ebc1b681-9840-454b-b8e5-e1d8a1a670cf\" type=\"checkbox\" ><label class=\"sk-toggleable__label\" for=\"ebc1b681-9840-454b-b8e5-e1d8a1a670cf\">transformer_dist</label><div class=\"sk-toggleable__content\"><pre>['pickup_longitude', 'pickup_latitude', 'dropoff_longitude', 'dropoff_latitude']</pre></div></div></div><div class=\"sk-serial\"><div class=\"sk-item\"><div class=\"sk-estimator sk-toggleable\"><input class=\"sk-toggleable__control sk-hidden--visually\" id=\"9fbed33f-2ea1-4dee-9af0-d7507ba7b341\" type=\"checkbox\" ><label class=\"sk-toggleable__label\" for=\"9fbed33f-2ea1-4dee-9af0-d7507ba7b341\">TransformerDistancia</label><div class=\"sk-toggleable__content\"><pre>TransformerDistancia()</pre></div></div></div></div></div></div><div class=\"sk-parallel-item\"><div class=\"sk-item\"><div class=\"sk-label-container\"><div class=\"sk-label sk-toggleable\"><input class=\"sk-toggleable__control sk-hidden--visually\" id=\"a917b107-64d9-4024-ae38-fd0bc02f9180\" type=\"checkbox\" ><label class=\"sk-toggleable__label\" for=\"a917b107-64d9-4024-ae38-fd0bc02f9180\">remainder</label><div class=\"sk-toggleable__content\"><pre>['passenger_count']</pre></div></div></div><div class=\"sk-serial\"><div class=\"sk-item\"><div class=\"sk-estimator sk-toggleable\"><input class=\"sk-toggleable__control sk-hidden--visually\" id=\"cbd2f3f2-3648-4784-a5ae-7ce2a121d8ad\" type=\"checkbox\" ><label class=\"sk-toggleable__label\" for=\"cbd2f3f2-3648-4784-a5ae-7ce2a121d8ad\">passthrough</label><div class=\"sk-toggleable__content\"><pre>passthrough</pre></div></div></div></div></div></div></div></div><div class=\"sk-item\"><div class=\"sk-estimator sk-toggleable\"><input class=\"sk-toggleable__control sk-hidden--visually\" id=\"b613608e-1354-437f-a4b7-83adca7d6c7d\" type=\"checkbox\" ><label class=\"sk-toggleable__label\" for=\"b613608e-1354-437f-a4b7-83adca7d6c7d\">StandardScaler</label><div class=\"sk-toggleable__content\"><pre>StandardScaler()</pre></div></div></div></div></div></div></div></div><div class=\"sk-parallel-item\"><div class=\"sk-item\"><div class=\"sk-label-container\"><div class=\"sk-label sk-toggleable\"><input class=\"sk-toggleable__control sk-hidden--visually\" id=\"5b04360f-7904-49a4-b960-cd13b0f3c5f6\" type=\"checkbox\" ><label class=\"sk-toggleable__label\" for=\"5b04360f-7904-49a4-b960-cd13b0f3c5f6\">cat_pipeline</label><div class=\"sk-toggleable__content\"><pre>['vendor_id', 'pickup_borough', 'pickup_datetime']</pre></div></div></div><div class=\"sk-serial\"><div class=\"sk-item\"><div class=\"sk-serial\"><div class=\"sk-item sk-dashed-wrapped\"><div class=\"sk-label-container\"><div class=\"sk-label sk-toggleable\"><input class=\"sk-toggleable__control sk-hidden--visually\" id=\"424c6e0a-d53d-4499-adc1-e210cb05e251\" type=\"checkbox\" ><label class=\"sk-toggleable__label\" for=\"424c6e0a-d53d-4499-adc1-e210cb05e251\">transformer_fechas: ColumnTransformer</label><div class=\"sk-toggleable__content\"><pre>ColumnTransformer(remainder='passthrough',\n",
       "                  transformers=[('transformer_fechas', TransformerFechas(),\n",
       "                                 ['pickup_datetime'])])</pre></div></div></div><div class=\"sk-parallel\"><div class=\"sk-parallel-item\"><div class=\"sk-item\"><div class=\"sk-label-container\"><div class=\"sk-label sk-toggleable\"><input class=\"sk-toggleable__control sk-hidden--visually\" id=\"bec9dfe6-71d4-45b7-bf5c-6e98a89c5ac6\" type=\"checkbox\" ><label class=\"sk-toggleable__label\" for=\"bec9dfe6-71d4-45b7-bf5c-6e98a89c5ac6\">transformer_fechas</label><div class=\"sk-toggleable__content\"><pre>['pickup_datetime']</pre></div></div></div><div class=\"sk-serial\"><div class=\"sk-item\"><div class=\"sk-estimator sk-toggleable\"><input class=\"sk-toggleable__control sk-hidden--visually\" id=\"09bf7efa-c19a-469c-bc82-fdd8367cf716\" type=\"checkbox\" ><label class=\"sk-toggleable__label\" for=\"09bf7efa-c19a-469c-bc82-fdd8367cf716\">TransformerFechas</label><div class=\"sk-toggleable__content\"><pre>TransformerFechas()</pre></div></div></div></div></div></div><div class=\"sk-parallel-item\"><div class=\"sk-item\"><div class=\"sk-label-container\"><div class=\"sk-label sk-toggleable\"><input class=\"sk-toggleable__control sk-hidden--visually\" id=\"5fe3cc42-81d1-4426-9157-320f617bd7f8\" type=\"checkbox\" ><label class=\"sk-toggleable__label\" for=\"5fe3cc42-81d1-4426-9157-320f617bd7f8\">remainder</label><div class=\"sk-toggleable__content\"><pre>['vendor_id', 'pickup_borough']</pre></div></div></div><div class=\"sk-serial\"><div class=\"sk-item\"><div class=\"sk-estimator sk-toggleable\"><input class=\"sk-toggleable__control sk-hidden--visually\" id=\"6d4e1d79-186f-440f-aff9-9d5972959778\" type=\"checkbox\" ><label class=\"sk-toggleable__label\" for=\"6d4e1d79-186f-440f-aff9-9d5972959778\">passthrough</label><div class=\"sk-toggleable__content\"><pre>passthrough</pre></div></div></div></div></div></div></div></div><div class=\"sk-item\"><div class=\"sk-estimator sk-toggleable\"><input class=\"sk-toggleable__control sk-hidden--visually\" id=\"667c1f7d-0784-4c18-9951-f93c866b3d1a\" type=\"checkbox\" ><label class=\"sk-toggleable__label\" for=\"667c1f7d-0784-4c18-9951-f93c866b3d1a\">OrdinalEncoder</label><div class=\"sk-toggleable__content\"><pre>OrdinalEncoder()</pre></div></div></div></div></div></div></div></div></div></div></div></div>"
      ],
      "text/plain": [
       "ColumnTransformer(transformers=[('num_pipeline',\n",
       "                                 Pipeline(steps=[('transformer_coord',\n",
       "                                                  ColumnTransformer(remainder='passthrough',\n",
       "                                                                    transformers=[('transformer_dist',\n",
       "                                                                                   TransformerDistancia(),\n",
       "                                                                                   ['pickup_longitude',\n",
       "                                                                                    'pickup_latitude',\n",
       "                                                                                    'dropoff_longitude',\n",
       "                                                                                    'dropoff_latitude'])])),\n",
       "                                                 ('scaler', StandardScaler())]),\n",
       "                                 ['passenger_count', 'pickup_longitude',\n",
       "                                  'pickup_latitude', 'dropoff_longitude',\n",
       "                                  'dropoff_latitude']),\n",
       "                                ('cat_pipeline',\n",
       "                                 Pipeline(steps=[('transformer_fechas',\n",
       "                                                  ColumnTransformer(remainder='passthrough',\n",
       "                                                                    transformers=[('transformer_fechas',\n",
       "                                                                                   TransformerFechas(),\n",
       "                                                                                   ['pickup_datetime'])])),\n",
       "                                                 ('OrdinalEncoder',\n",
       "                                                  OrdinalEncoder())]),\n",
       "                                 ['vendor_id', 'pickup_borough',\n",
       "                                  'pickup_datetime'])])"
      ]
     },
     "metadata": {},
     "output_type": "display_data"
    }
   ],
   "source": [
    "display(full_pipeline)"
   ]
  },
  {
   "cell_type": "markdown",
   "id": "79f69dd5",
   "metadata": {},
   "source": [
    "## Guardar Pipeline a Disco"
   ]
  },
  {
   "cell_type": "markdown",
   "id": "be814dbf",
   "metadata": {},
   "source": [
    "Además de tener una clara separación entre los métodos `.fit()` y `.transform()`, la ventaja de escribir todo nuestro proceso como un solo pipeline (`full_pipeline`) es que podemos guardar en disco el objeto que usamos para preprocesar. \n",
    "\n",
    "Esto es útil para tener todas las transformaciones definidas en un objeto al momento que queramos hacer reproducibles nuestras transformaciones para, por ejemplo, desplegar nuestro modelo.\n",
    "\n",
    "**Creamos** un **contexto** usando `open()` y usamos la función **dill.dump()** para **guardar** nuestro **flujo de preprocesamiento en disco**."
   ]
  },
  {
   "cell_type": "code",
   "execution_count": 81,
   "id": "f9257bae",
   "metadata": {},
   "outputs": [
    {
     "name": "stdout",
     "output_type": "stream",
     "text": [
      "Se guardo el pipeline\n"
     ]
    }
   ],
   "source": [
    "import dill\n",
    "dill.settings['recurse'] = True\n",
    "\n",
    "with open(\"preprocesser.pkl\", \"wb\") as f:\n",
    "    dill.dump(full_pipeline, f)  # Guardar el flujo\n",
    "    \n",
    "print(\"Se guardo el pipeline !!\")"
   ]
  },
  {
   "cell_type": "markdown",
   "id": "ff0cd50b",
   "metadata": {},
   "source": [
    "Para cargar nuestro flujo, usamos la función `dill.load()`. Además verificamos que el resultado de las transformaciones con el flujo que teníamos en el notebook y el que cargamos desde el disco es idéntico."
   ]
  },
  {
   "cell_type": "markdown",
   "id": "b447202e",
   "metadata": {},
   "source": [
    "## Checkpoint #4"
   ]
  },
  {
   "cell_type": "code",
   "execution_count": 82,
   "id": "9ca0405b",
   "metadata": {},
   "outputs": [
    {
     "name": "stdout",
     "output_type": "stream",
     "text": [
      "True\n"
     ]
    }
   ],
   "source": [
    "with open(\"preprocesser.pkl\", \"rb\") as f:\n",
    "    loaded_pipeline = dill.load(f) # Cargar el flujo\n",
    "    \n",
    "X_loaded = loaded_pipeline.transform(train_df)\n",
    "print((X_loaded == X_transformed).all())"
   ]
  },
  {
   "cell_type": "code",
   "execution_count": null,
   "id": "1ad787de",
   "metadata": {},
   "outputs": [],
   "source": []
  },
  {
   "cell_type": "code",
   "execution_count": null,
   "id": "8a3daedd",
   "metadata": {},
   "outputs": [],
   "source": []
  }
 ],
 "metadata": {
  "kernelspec": {
   "display_name": "Python 3",
   "language": "python",
   "name": "python3"
  },
  "language_info": {
   "codemirror_mode": {
    "name": "ipython",
    "version": 3
   },
   "file_extension": ".py",
   "mimetype": "text/x-python",
   "name": "python",
   "nbconvert_exporter": "python",
   "pygments_lexer": "ipython3",
   "version": "3.8.8"
  }
 },
 "nbformat": 4,
 "nbformat_minor": 5
}
